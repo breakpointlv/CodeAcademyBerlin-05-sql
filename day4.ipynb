{
 "cells": [
  {
   "cell_type": "code",
   "execution_count": 21,
   "metadata": {
    "collapsed": true
   },
   "outputs": [],
   "source": [
    "import sqlite3\n",
    "con = sqlite3.connect(\"products.db\")\n",
    "cur = con.cursor()"
   ]
  },
  {
   "cell_type": "code",
   "execution_count": 22,
   "outputs": [
    {
     "data": {
      "text/plain": "<sqlite3.Cursor at 0x7f03ca99e8c0>"
     },
     "execution_count": 22,
     "metadata": {},
     "output_type": "execute_result"
    }
   ],
   "source": [
    "cur.execute(\"DROP TABLE IF EXISTS Movies\")\n",
    "cur.execute(\"DROP TABLE IF EXISTS MovieTheaters\")"
   ],
   "metadata": {
    "collapsed": false
   }
  },
  {
   "cell_type": "code",
   "execution_count": 23,
   "outputs": [],
   "source": [
    "cur.executescript(\"\"\"\n",
    "CREATE TABLE IF NOT EXISTS Movies (\n",
    "  Code INTEGER,\n",
    "  Title VARCHAR(255) NOT NULL,\n",
    "  Rating VARCHAR(255),\n",
    "  PRIMARY KEY (Code)\n",
    ");\n",
    "\n",
    "CREATE TABLE IF NOT EXISTS MovieTheaters (\n",
    "  Code INTEGER,\n",
    "  Name VARCHAR(255) NOT NULL,\n",
    "  Movie INTEGER,\n",
    "  PRIMARY KEY (Code)\n",
    "  );\n",
    "\n",
    "INSERT INTO Movies(Code,Title,Rating) VALUES(1,'Citizen Kane','PG');\n",
    "INSERT INTO Movies(Code,Title,Rating) VALUES(2,'Singin'' in the Rain','G');\n",
    "INSERT INTO Movies(Code,Title,Rating) VALUES(3,'The Wizard of Oz','G');\n",
    "INSERT INTO Movies(Code,Title,Rating) VALUES(4,'The Quiet Man',NULL);\n",
    "INSERT INTO Movies(Code,Title,Rating) VALUES(5,'North by Northwest',NULL);\n",
    "INSERT INTO Movies(Code,Title,Rating) VALUES(6,'The Last Tango in Paris','NC-17');\n",
    "INSERT INTO Movies(Code,Title,Rating) VALUES(7,'Some Like it Hot','PG-13');\n",
    "INSERT INTO Movies(Code,Title,Rating) VALUES(8,'A Night at the Opera',NULL);\n",
    "\n",
    "INSERT INTO MovieTheaters(Code,Name,Movie) VALUES(1,'Odeon',5);\n",
    "INSERT INTO MovieTheaters(Code,Name,Movie) VALUES(2,'Imperial',1);\n",
    "INSERT INTO MovieTheaters(Code,Name,Movie) VALUES(3,'Majestic',NULL);\n",
    "INSERT INTO MovieTheaters(Code,Name,Movie) VALUES(4,'Royale',6);\n",
    "INSERT INTO MovieTheaters(Code,Name,Movie) VALUES(5,'Paraiso',3);\n",
    "INSERT INTO MovieTheaters(Code,Name,Movie) VALUES(6,'Nickelodeon',NULL);\n",
    "\n",
    "\"\"\")\n",
    "con.commit()"
   ],
   "metadata": {
    "collapsed": false
   }
  },
  {
   "cell_type": "code",
   "execution_count": 24,
   "outputs": [
    {
     "data": {
      "text/plain": "[('Citizen Kane',),\n (\"Singin' in the Rain\",),\n ('The Wizard of Oz',),\n ('The Quiet Man',),\n ('North by Northwest',),\n ('The Last Tango in Paris',),\n ('Some Like it Hot',),\n ('A Night at the Opera',)]"
     },
     "metadata": {},
     "output_type": "display_data"
    }
   ],
   "source": [
    "# -- 4.1 Select the title of all movies.\n",
    "cur.execute(\"SELECT Title FROM Movies\")\n",
    "display(cur.fetchall())"
   ],
   "metadata": {
    "collapsed": false
   }
  },
  {
   "cell_type": "code",
   "execution_count": 25,
   "outputs": [
    {
     "data": {
      "text/plain": "[('PG',), ('G',), (None,), ('NC-17',), ('PG-13',)]"
     },
     "metadata": {},
     "output_type": "display_data"
    }
   ],
   "source": [
    "# -- 4.2 Show all the distinct ratings in the database.\n",
    "cur.execute(\"SELECT DISTINCT Rating FROM Movies\")\n",
    "display(cur.fetchall())"
   ],
   "metadata": {
    "collapsed": false
   }
  },
  {
   "cell_type": "code",
   "execution_count": 26,
   "outputs": [
    {
     "data": {
      "text/plain": "[('The Quiet Man',), ('North by Northwest',), ('A Night at the Opera',)]"
     },
     "metadata": {},
     "output_type": "display_data"
    }
   ],
   "source": [
    "# -- 4.3 Show all unrated movies.\n",
    "cur.execute(\"SELECT Title FROM Movies WHERE Rating IS NULL\")\n",
    "display(cur.fetchall())"
   ],
   "metadata": {
    "collapsed": false
   }
  },
  {
   "cell_type": "code",
   "execution_count": 27,
   "outputs": [
    {
     "data": {
      "text/plain": "[('Majestic',), ('Nickelodeon',)]"
     },
     "metadata": {},
     "output_type": "display_data"
    }
   ],
   "source": [
    "# -- 4.4 Select all movie theaters that are not currently showing a movie.\n",
    "cur.execute(\"SELECT Name FROM MovieTheaters WHERE Movie IS NULL\")\n",
    "display(cur.fetchall())"
   ],
   "metadata": {
    "collapsed": false
   }
  },
  {
   "cell_type": "code",
   "execution_count": 28,
   "outputs": [
    {
     "data": {
      "text/plain": "[(1, 'Odeon', 5, 5, 'North by Northwest', None),\n (2, 'Imperial', 1, 1, 'Citizen Kane', 'PG'),\n (3, 'Majestic', None, None, None, None),\n (4, 'Royale', 6, 6, 'The Last Tango in Paris', 'NC-17'),\n (5, 'Paraiso', 3, 3, 'The Wizard of Oz', 'G'),\n (6, 'Nickelodeon', None, None, None, None)]"
     },
     "metadata": {},
     "output_type": "display_data"
    }
   ],
   "source": [
    "# -- 4.5 Select all data from all movie theaters and, additionally, the data from the movie that is being shown in the theater (if one is being shown).\n",
    "cur.execute(\"\"\"\n",
    "    SELECT *\n",
    "    FROM MovieTheaters\n",
    "    LEFT JOIN Movies ON MovieTheaters.Movie = Movies.Code\n",
    "\"\"\")\n",
    "display(cur.fetchall())"
   ],
   "metadata": {
    "collapsed": false
   }
  },
  {
   "cell_type": "code",
   "execution_count": 29,
   "outputs": [
    {
     "data": {
      "text/plain": "[(1, 'Citizen Kane', 'PG', 2, 'Imperial', 1),\n (2, \"Singin' in the Rain\", 'G', None, None, None),\n (3, 'The Wizard of Oz', 'G', 5, 'Paraiso', 3),\n (4, 'The Quiet Man', None, None, None, None),\n (5, 'North by Northwest', None, 1, 'Odeon', 5),\n (6, 'The Last Tango in Paris', 'NC-17', 4, 'Royale', 6),\n (7, 'Some Like it Hot', 'PG-13', None, None, None),\n (8, 'A Night at the Opera', None, None, None, None)]"
     },
     "metadata": {},
     "output_type": "display_data"
    }
   ],
   "source": [
    "# -- 4.6 Select all data from all movies and, if that movie is being shown in a theater, show the data from the theater.\n",
    "cur.execute(\"\"\"\n",
    "    SELECT *\n",
    "    FROM Movies\n",
    "    LEFT JOIN MovieTheaters ON MovieTheaters.Movie = Movies.Code\n",
    "\"\"\")\n",
    "display(cur.fetchall())"
   ],
   "metadata": {
    "collapsed": false
   }
  },
  {
   "cell_type": "code",
   "execution_count": 30,
   "outputs": [
    {
     "data": {
      "text/plain": "[(\"Singin' in the Rain\",),\n ('The Quiet Man',),\n ('Some Like it Hot',),\n ('A Night at the Opera',)]"
     },
     "execution_count": 30,
     "metadata": {},
     "output_type": "execute_result"
    }
   ],
   "source": [
    "# -- 4.7 Show the titles of movies not currently being shown in any theaters.\n",
    "cur.execute(\"\"\"\n",
    "    SELECT Title\n",
    "    FROM Movies\n",
    "    LEFT JOIN MovieTheaters ON MovieTheaters.Movie = Movies.Code\n",
    "    WHERE Movie IS NULL\n",
    "\"\"\")\n",
    "cur.fetchall()"
   ],
   "metadata": {
    "collapsed": false
   }
  },
  {
   "cell_type": "code",
   "execution_count": 31,
   "outputs": [],
   "source": [
    "# -- 4.8 Add the unrated movie \"One, Two, Three\".\n",
    "cur.execute(\"\"\"\n",
    "    INSERT INTO Movies(Code,Title,Rating)\n",
    "    VALUES(9,'One, Two, Three',NULL)\n",
    "\"\"\")\n",
    "con.commit()"
   ],
   "metadata": {
    "collapsed": false
   }
  },
  {
   "cell_type": "code",
   "execution_count": 32,
   "outputs": [],
   "source": [
    "# -- 4.9 Set the rating of all unrated movies to \"G\".\n",
    "cur.execute(\"\"\"\n",
    "    UPDATE Movies\n",
    "    SET Rating = 'G'\n",
    "    WHERE Rating IS NULL\n",
    "\"\"\")\n",
    "con.commit()"
   ],
   "metadata": {
    "collapsed": false
   }
  },
  {
   "cell_type": "code",
   "execution_count": 33,
   "outputs": [],
   "source": [
    "# -- 4.10 Remove movie theaters projecting movies rated \"NC-17\".\n",
    "cur.execute(\"\"\"\n",
    "    DELETE FROM MovieTheaters\n",
    "    WHERE Code IN (\n",
    "        SELECT MovieTheaters.Code\n",
    "        FROM MovieTheaters\n",
    "        LEFT JOIN Movies ON MovieTheaters.Movie = Movies.Code\n",
    "        WHERE Movies.Rating = 'NC-17'\n",
    "    )\n",
    "\"\"\")\n",
    "con.commit()"
   ],
   "metadata": {
    "collapsed": false
   }
  },
  {
   "cell_type": "code",
   "execution_count": 33,
   "outputs": [],
   "source": [],
   "metadata": {
    "collapsed": false
   }
  }
 ],
 "metadata": {
  "kernelspec": {
   "display_name": "Python 3",
   "language": "python",
   "name": "python3"
  },
  "language_info": {
   "codemirror_mode": {
    "name": "ipython",
    "version": 2
   },
   "file_extension": ".py",
   "mimetype": "text/x-python",
   "name": "python",
   "nbconvert_exporter": "python",
   "pygments_lexer": "ipython2",
   "version": "2.7.6"
  }
 },
 "nbformat": 4,
 "nbformat_minor": 0
}
