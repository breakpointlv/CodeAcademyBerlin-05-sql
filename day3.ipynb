{
 "cells": [
  {
   "cell_type": "code",
   "execution_count": 32,
   "metadata": {
    "collapsed": true
   },
   "outputs": [],
   "source": [
    "import sqlite3\n",
    "con = sqlite3.connect(\"products.db\")\n",
    "cur = con.cursor()"
   ]
  },
  {
   "cell_type": "code",
   "execution_count": 33,
   "outputs": [
    {
     "data": {
      "text/plain": "<sqlite3.Cursor at 0x7f796a7f8cc0>"
     },
     "execution_count": 33,
     "metadata": {},
     "output_type": "execute_result"
    }
   ],
   "source": [
    "cur.execute(\"DROP TABLE IF EXISTS Warehouses\")\n",
    "cur.execute(\"DROP TABLE IF EXISTS Boxes\")"
   ],
   "metadata": {
    "collapsed": false
   }
  },
  {
   "cell_type": "code",
   "execution_count": 34,
   "outputs": [],
   "source": [
    "cur.executescript(\"\"\"\n",
    "CREATE TABLE Warehouses (\n",
    "   Code INTEGER NOT NULL,\n",
    "   Location VARCHAR(255) NOT NULL ,\n",
    "   Capacity INTEGER NOT NULL,\n",
    "   PRIMARY KEY (Code)\n",
    " );\n",
    "CREATE TABLE Boxes (\n",
    "    Code CHAR(4) NOT NULL,\n",
    "    Contents VARCHAR(255) NOT NULL ,\n",
    "    Value REAL NOT NULL ,\n",
    "    Warehouse INTEGER NOT NULL,\n",
    "    PRIMARY KEY (Code)\n",
    " );\n",
    "\n",
    " INSERT INTO Warehouses(Code,Location,Capacity) VALUES(1,'Chicago',3);\n",
    " INSERT INTO Warehouses(Code,Location,Capacity) VALUES(2,'Chicago',4);\n",
    " INSERT INTO Warehouses(Code,Location,Capacity) VALUES(3,'New York',7);\n",
    " INSERT INTO Warehouses(Code,Location,Capacity) VALUES(4,'Los Angeles',2);\n",
    " INSERT INTO Warehouses(Code,Location,Capacity) VALUES(5,'San Francisco',8);\n",
    "\n",
    " INSERT INTO Boxes(Code,Contents,Value,Warehouse) VALUES('0MN7','Rocks',180,3);\n",
    " INSERT INTO Boxes(Code,Contents,Value,Warehouse) VALUES('4H8P','Rocks',250,1);\n",
    " INSERT INTO Boxes(Code,Contents,Value,Warehouse) VALUES('4RT3','Scissors',190,4);\n",
    " INSERT INTO Boxes(Code,Contents,Value,Warehouse) VALUES('7G3H','Rocks',200,1);\n",
    " INSERT INTO Boxes(Code,Contents,Value,Warehouse) VALUES('8JN6','Papers',75,1);\n",
    " INSERT INTO Boxes(Code,Contents,Value,Warehouse) VALUES('8Y6U','Papers',50,3);\n",
    " INSERT INTO Boxes(Code,Contents,Value,Warehouse) VALUES('9J6F','Papers',175,2);\n",
    " INSERT INTO Boxes(Code,Contents,Value,Warehouse) VALUES('LL08','Rocks',140,4);\n",
    " INSERT INTO Boxes(Code,Contents,Value,Warehouse) VALUES('P0H6','Scissors',125,1);\n",
    " INSERT INTO Boxes(Code,Contents,Value,Warehouse) VALUES('P2T6','Scissors',150,2);\n",
    " INSERT INTO Boxes(Code,Contents,Value,Warehouse) VALUES('TU55','Papers',90,5);\n",
    "\n",
    "\"\"\")\n",
    "con.commit()"
   ],
   "metadata": {
    "collapsed": false
   }
  },
  {
   "cell_type": "code",
   "execution_count": 35,
   "outputs": [
    {
     "data": {
      "text/plain": "[(1, 'Chicago', 3),\n (2, 'Chicago', 4),\n (3, 'New York', 7),\n (4, 'Los Angeles', 2),\n (5, 'San Francisco', 8)]"
     },
     "metadata": {},
     "output_type": "display_data"
    }
   ],
   "source": [
    "# --3.1 Select all warehouses.\n",
    "cur.execute(\"SELECT * FROM Warehouses\")\n",
    "display(cur.fetchall())"
   ],
   "metadata": {
    "collapsed": false
   }
  },
  {
   "cell_type": "code",
   "execution_count": 36,
   "outputs": [
    {
     "data": {
      "text/plain": "[('0MN7', 'Rocks', 180.0, 3),\n ('4H8P', 'Rocks', 250.0, 1),\n ('4RT3', 'Scissors', 190.0, 4),\n ('7G3H', 'Rocks', 200.0, 1),\n ('9J6F', 'Papers', 175.0, 2)]"
     },
     "metadata": {},
     "output_type": "display_data"
    }
   ],
   "source": [
    "# --3.2 Select all boxes with a value larger than $150.\n",
    "cur.execute(\"SELECT * FROM Boxes WHERE Value > 150\")\n",
    "display(cur.fetchall())"
   ],
   "metadata": {
    "collapsed": false
   }
  },
  {
   "cell_type": "code",
   "execution_count": 37,
   "outputs": [
    {
     "data": {
      "text/plain": "[('Rocks',), ('Scissors',), ('Papers',)]"
     },
     "metadata": {},
     "output_type": "display_data"
    }
   ],
   "source": [
    "# --3.3 Select all distinct contents in all the boxes.\n",
    "cur.execute(\"SELECT DISTINCT Contents FROM Boxes\")\n",
    "display(cur.fetchall())"
   ],
   "metadata": {
    "collapsed": false
   }
  },
  {
   "cell_type": "code",
   "execution_count": 38,
   "outputs": [
    {
     "data": {
      "text/plain": "<sqlite3.Cursor at 0x7f796a7f8cc0>"
     },
     "execution_count": 38,
     "metadata": {},
     "output_type": "execute_result"
    }
   ],
   "source": [
    "# --3.4 Select the average value of all the boxes.\n",
    "cur.execute(\"SELECT AVG(Value) FROM Boxes\")"
   ],
   "metadata": {
    "collapsed": false
   }
  },
  {
   "cell_type": "code",
   "execution_count": 39,
   "outputs": [
    {
     "data": {
      "text/plain": "[(1, 162.5), (2, 162.5), (3, 115.0), (4, 165.0), (5, 90.0)]"
     },
     "metadata": {},
     "output_type": "display_data"
    }
   ],
   "source": [
    "# --3.5 Select the warehouse code and the average value of the boxes in each warehouse.\n",
    "cur.execute(\"\"\"\n",
    "    SELECT Warehouse, AVG(Value)\n",
    "    FROM Boxes\n",
    "    GROUP BY Warehouse\n",
    "\"\"\")\n",
    "display(cur.fetchall())"
   ],
   "metadata": {
    "collapsed": false
   }
  },
  {
   "cell_type": "code",
   "execution_count": 40,
   "outputs": [
    {
     "data": {
      "text/plain": "[(1, 162.5), (2, 162.5), (4, 165.0)]"
     },
     "metadata": {},
     "output_type": "display_data"
    }
   ],
   "source": [
    "# --3.6 Same as previous question, but select only those warehouses where the average value of the boxes is greater than $150.\n",
    "cur.execute(\"\"\"\n",
    "    SELECT Warehouse, AVG(Value)\n",
    "    FROM Boxes\n",
    "    GROUP BY Warehouse\n",
    "    HAVING AVG(Value) > 150\n",
    "\"\"\")\n",
    "display(cur.fetchall())"
   ],
   "metadata": {
    "collapsed": false
   }
  },
  {
   "cell_type": "code",
   "execution_count": 41,
   "outputs": [
    {
     "data": {
      "text/plain": "[('0MN7', 'New York'),\n ('4H8P', 'Chicago'),\n ('4RT3', 'Los Angeles'),\n ('7G3H', 'Chicago'),\n ('8JN6', 'Chicago'),\n ('8Y6U', 'New York'),\n ('9J6F', 'Chicago'),\n ('LL08', 'Los Angeles'),\n ('P0H6', 'Chicago'),\n ('P2T6', 'Chicago'),\n ('TU55', 'San Francisco')]"
     },
     "metadata": {},
     "output_type": "display_data"
    }
   ],
   "source": [
    "# --3.7 Select the code of each box, along with the name of the city the box is located in.\n",
    "cur.execute(\"\"\"\n",
    "    SELECT Boxes.Code, Warehouses.Location\n",
    "    FROM Boxes\n",
    "    INNER JOIN Warehouses\n",
    "    ON Boxes.Warehouse = Warehouses.Code\n",
    "\"\"\")\n",
    "display(cur.fetchall())"
   ],
   "metadata": {
    "collapsed": false
   }
  },
  {
   "cell_type": "code",
   "execution_count": 42,
   "outputs": [
    {
     "data": {
      "text/plain": "[(1, 162.5), (2, 162.5), (4, 165.0)]"
     },
     "metadata": {},
     "output_type": "display_data"
    }
   ],
   "source": [
    "# --3.8 Select the warehouse code, and the average value of the boxes in each warehouse, only for those warehouses where the average value of the boxes is greater than $150.\n",
    "cur.execute(\"\"\"\n",
    "    SELECT Warehouse, AVG(Value)\n",
    "    FROM Boxes\n",
    "    GROUP BY Warehouse\n",
    "    HAVING AVG(Value) > 150\n",
    "\"\"\")\n",
    "display(cur.fetchall())"
   ],
   "metadata": {
    "collapsed": false
   }
  },
  {
   "cell_type": "code",
   "execution_count": 43,
   "outputs": [
    {
     "data": {
      "text/plain": "[(1,)]"
     },
     "metadata": {},
     "output_type": "display_data"
    }
   ],
   "source": [
    "# --3.9 Select the codes of all warehouses that are saturated (a warehouse is saturated if the number of boxes in it is larger than the warehouse's capacity).\n",
    "cur.execute(\"\"\"\n",
    "    SELECT Boxes.Warehouse\n",
    "    FROM Boxes\n",
    "    JOIN Warehouses ON Boxes.Warehouse = Warehouses.Code\n",
    "    GROUP BY Boxes.Warehouse\n",
    "    HAVING COUNT(Boxes.Warehouse) > Warehouses.Capacity\n",
    "\"\"\")\n",
    "display(cur.fetchall())"
   ],
   "metadata": {
    "collapsed": false
   }
  },
  {
   "cell_type": "code",
   "execution_count": 44,
   "outputs": [
    {
     "data": {
      "text/plain": "[('4H8P',), ('7G3H',), ('8JN6',), ('9J6F',), ('P0H6',), ('P2T6',)]"
     },
     "metadata": {},
     "output_type": "display_data"
    }
   ],
   "source": [
    "# --3.10 Select the codes of all the boxes located in Chicago.\n",
    "cur.execute(\"\"\"\n",
    "    SELECT Boxes.Code\n",
    "    FROM Boxes\n",
    "    JOIN Warehouses ON Boxes.Warehouse = Warehouses.Code\n",
    "    WHERE Warehouses.Location = 'Chicago'\n",
    "\"\"\")\n",
    "display(cur.fetchall())"
   ],
   "metadata": {
    "collapsed": false
   }
  },
  {
   "cell_type": "code",
   "execution_count": 45,
   "outputs": [],
   "source": [
    "# --3.11 Create a new warehouse in New York with a capacity for 3 boxes.\n",
    "cur.execute(\"\"\"\n",
    "    INSERT INTO Warehouses(Code,Location,Capacity)\n",
    "    VALUES(6,'New York',3)\n",
    "\"\"\")\n",
    "con.commit()"
   ],
   "metadata": {
    "collapsed": false
   }
  },
  {
   "cell_type": "code",
   "execution_count": 46,
   "outputs": [],
   "source": [
    "# --3.12 Create a new box, with code \"H5RT\", containing \"Papers\" with a value of $200, and located in warehouse 2.\n",
    "cur.execute(\"\"\"\n",
    "    INSERT INTO Boxes(Code,Contents,Value,Warehouse)\n",
    "    VALUES('H5RT','Papers',200,2)\n",
    "\"\"\")\n",
    "con.commit()"
   ],
   "metadata": {
    "collapsed": false
   }
  },
  {
   "cell_type": "code",
   "execution_count": 47,
   "outputs": [],
   "source": [
    "# --3.13 Reduce the value of all boxes by 15%.\n",
    "cur.execute(\"\"\"\n",
    "    UPDATE Boxes\n",
    "    SET Value = Value * 0.85\n",
    "\"\"\")\n",
    "con.commit()"
   ],
   "metadata": {
    "collapsed": false
   }
  },
  {
   "cell_type": "code",
   "execution_count": 48,
   "outputs": [],
   "source": [
    "# --3.14 Remove all boxes with a value lower than $100.\n",
    "cur.execute(\"\"\"\n",
    "    DELETE FROM Boxes\n",
    "    WHERE Value < 100\n",
    "\"\"\")\n",
    "con.commit()"
   ],
   "metadata": {
    "collapsed": false
   }
  },
  {
   "cell_type": "code",
   "execution_count": 49,
   "outputs": [],
   "source": [
    "# --3.15 Remove all boxes from saturated warehouses.\n",
    "cur.execute(\"\"\"\n",
    "    DELETE FROM Boxes\n",
    "    WHERE Warehouse IN (\n",
    "        SELECT Boxes.Warehouse\n",
    "        FROM Boxes\n",
    "        JOIN Warehouses ON Boxes.Warehouse = Warehouses.Code\n",
    "        GROUP BY Boxes.Warehouse\n",
    "        HAVING COUNT(Boxes.Warehouse) > Warehouses.Capacity\n",
    "    )\n",
    "\"\"\")\n",
    "con.commit()"
   ],
   "metadata": {
    "collapsed": false
   }
  },
  {
   "cell_type": "code",
   "execution_count": 50,
   "outputs": [],
   "source": [
    "# -- 3.16 Add Index for column \"Warehouse\" in table \"boxes\"\n",
    "cur.execute(\"\"\"\n",
    "    CREATE INDEX idx_warehouse ON Boxes(Warehouse)\n",
    "\"\"\")\n",
    "con.commit()"
   ],
   "metadata": {
    "collapsed": false
   }
  },
  {
   "cell_type": "code",
   "execution_count": 51,
   "outputs": [
    {
     "data": {
      "text/plain": "<sqlite3.Cursor at 0x7f796a7f8cc0>"
     },
     "execution_count": 51,
     "metadata": {},
     "output_type": "execute_result"
    }
   ],
   "source": [
    "# -- 3.17 Print all the existing indexes\n",
    "cur.execute(\"\"\"\n",
    "    SELECT name FROM sqlite_master WHERE type='index'\n",
    "\"\"\")"
   ],
   "metadata": {
    "collapsed": false
   }
  },
  {
   "cell_type": "code",
   "execution_count": 52,
   "outputs": [],
   "source": [
    "# -- 3.18 Remove Index for column \"Warehouse\" in table \"boxes\"\n",
    "cur.execute(\"\"\"\n",
    "    DROP INDEX idx_warehouse\n",
    "\"\"\")\n",
    "con.commit()"
   ],
   "metadata": {
    "collapsed": false
   }
  },
  {
   "cell_type": "code",
   "execution_count": 52,
   "outputs": [],
   "source": [],
   "metadata": {
    "collapsed": false
   }
  }
 ],
 "metadata": {
  "kernelspec": {
   "display_name": "Python 3",
   "language": "python",
   "name": "python3"
  },
  "language_info": {
   "codemirror_mode": {
    "name": "ipython",
    "version": 2
   },
   "file_extension": ".py",
   "mimetype": "text/x-python",
   "name": "python",
   "nbconvert_exporter": "python",
   "pygments_lexer": "ipython2",
   "version": "2.7.6"
  }
 },
 "nbformat": 4,
 "nbformat_minor": 0
}
