{
 "cells": [
  {
   "cell_type": "code",
   "execution_count": null,
   "metadata": {
    "collapsed": true
   },
   "outputs": [],
   "source": [
    "import sqlite3\n",
    "con = sqlite3.connect(\"products.db\")\n",
    "cur = con.cursor()\n",
    "\n",
    "cur.executescript(\"\"\"\n",
    "CREATE TABLE PEOPLE (id INTEGER, name CHAR);\n",
    "\n",
    "INSERT INTO PEOPLE VALUES(1, \"A\");\n",
    "INSERT INTO PEOPLE VALUES(2, \"B\");\n",
    "INSERT INTO PEOPLE VALUES(3, \"C\");\n",
    "INSERT INTO PEOPLE VALUES(4, \"D\");\n",
    "\n",
    "CREATE TABLE ADDRESS (id INTEGER, address CHAR, updatedate date);\n",
    "\n",
    "INSERT INTO ADDRESS VALUES(1, \"address-1-1\", \"2016-01-01\");\n",
    "INSERT INTO ADDRESS VALUES(1, \"address-1-2\", \"2016-09-02\");\n",
    "INSERT INTO ADDRESS VALUES(2, \"address-2-1\", \"2015-11-01\");\n",
    "INSERT INTO ADDRESS VALUES(3, \"address-3-1\", \"2016-12-01\");\n",
    "INSERT INTO ADDRESS VALUES(3, \"address-3-2\", \"2014-09-11\");\n",
    "INSERT INTO ADDRESS VALUES(3, \"address-3-3\", \"2015-01-01\");\n",
    "INSERT INTO ADDRESS VALUES(4, \"address-4-1\", \"2010-05-21\");\n",
    "INSERT INTO ADDRESS VALUES(4, \"address-4-2\", \"2012-02-11\");\n",
    "INSERT INTO ADDRESS VALUES(4, \"address-4-3\", \"2015-04-27\");\n",
    "INSERT INTO ADDRESS VALUES(4, \"address-4-4\", \"2014-01-01\");\n",
    "\"\"\")\n",
    "con.commit()"
   ]
  }
 ],
 "metadata": {
  "kernelspec": {
   "display_name": "Python 3",
   "language": "python",
   "name": "python3"
  },
  "language_info": {
   "codemirror_mode": {
    "name": "ipython",
    "version": 2
   },
   "file_extension": ".py",
   "mimetype": "text/x-python",
   "name": "python",
   "nbconvert_exporter": "python",
   "pygments_lexer": "ipython2",
   "version": "2.7.6"
  }
 },
 "nbformat": 4,
 "nbformat_minor": 0
}
