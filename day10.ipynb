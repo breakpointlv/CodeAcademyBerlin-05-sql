{
 "cells": [
  {
   "cell_type": "code",
   "execution_count": 3,
   "metadata": {
    "collapsed": true
   },
   "outputs": [],
   "source": [
    "import sqlite3\n",
    "con = sqlite3.connect(\"products.db\")\n",
    "cur = con.cursor()\n",
    "\n",
    "cur.executescript(\"\"\"\n",
    "CREATE TABLE PEOPLE (id INTEGER, name CHAR);\n",
    "\n",
    "INSERT INTO PEOPLE VALUES(1, \"A\");\n",
    "INSERT INTO PEOPLE VALUES(2, \"B\");\n",
    "INSERT INTO PEOPLE VALUES(3, \"C\");\n",
    "INSERT INTO PEOPLE VALUES(4, \"D\");\n",
    "\n",
    "CREATE TABLE ADDRESS (id INTEGER, address CHAR, updatedate date);\n",
    "\n",
    "INSERT INTO ADDRESS VALUES(1, \"address-1-1\", \"2016-01-01\");\n",
    "INSERT INTO ADDRESS VALUES(1, \"address-1-2\", \"2016-09-02\");\n",
    "INSERT INTO ADDRESS VALUES(2, \"address-2-1\", \"2015-11-01\");\n",
    "INSERT INTO ADDRESS VALUES(3, \"address-3-1\", \"2016-12-01\");\n",
    "INSERT INTO ADDRESS VALUES(3, \"address-3-2\", \"2014-09-11\");\n",
    "INSERT INTO ADDRESS VALUES(3, \"address-3-3\", \"2015-01-01\");\n",
    "INSERT INTO ADDRESS VALUES(4, \"address-4-1\", \"2010-05-21\");\n",
    "INSERT INTO ADDRESS VALUES(4, \"address-4-2\", \"2012-02-11\");\n",
    "INSERT INTO ADDRESS VALUES(4, \"address-4-3\", \"2015-04-27\");\n",
    "INSERT INTO ADDRESS VALUES(4, \"address-4-4\", \"2014-01-01\");\n",
    "\"\"\")\n",
    "con.commit()"
   ]
  },
  {
   "cell_type": "code",
   "execution_count": 5,
   "outputs": [
    {
     "data": {
      "text/plain": "[(1, 'A', 1, 'address-1-1', '2016-01-01'),\n (2, 'B', 2, 'address-2-1', '2015-11-01'),\n (3, 'C', 3, 'address-3-1', '2016-12-01'),\n (4, 'D', 4, 'address-4-1', '2010-05-21')]"
     },
     "metadata": {},
     "output_type": "display_data"
    }
   ],
   "source": [
    "# -- 10.1 Join table PEOPLE and ADDRESS, but keep only one address information for each person (we don't mind which record we take for each person).\n",
    "#    -- i.e., the joined table should have the same number of rows as table PEOPLE\n",
    "cur.execute(\"\"\"\n",
    "    SELECT * FROM PEOPLE\n",
    "    LEFT JOIN ADDRESS ON PEOPLE.id = ADDRESS.id\n",
    "    GROUP BY PEOPLE.id\n",
    "\"\"\")\n",
    "display(cur.fetchall())"
   ],
   "metadata": {
    "collapsed": false
   }
  },
  {
   "cell_type": "code",
   "execution_count": 9,
   "outputs": [
    {
     "data": {
      "text/plain": "[(1, 'A', 1, 'address-1-2', '2016-09-02'),\n (2, 'B', 2, 'address-2-1', '2015-11-01'),\n (3, 'C', 3, 'address-3-1', '2016-12-01'),\n (4, 'D', 4, 'address-4-3', '2015-04-27')]"
     },
     "metadata": {},
     "output_type": "display_data"
    },
    {
     "data": {
      "text/plain": "[(3, 'C', 3, 'address-3-1', '2016-12-01'),\n (1, 'A', 1, 'address-1-1', '2016-01-01'),\n (2, 'B', 2, 'address-2-1', '2015-11-01'),\n (4, 'D', 4, 'address-4-1', '2010-05-21')]"
     },
     "metadata": {},
     "output_type": "display_data"
    }
   ],
   "source": [
    "# -- 10.2 Join table PEOPLE and ADDRESS, but ONLY keep the LATEST address information for each person.\n",
    "#    -- i.e., the joined table should have the same number of rows as table PEOPLE\n",
    "cur.execute(\"\"\"\n",
    "    SELECT * FROM PEOPLE\n",
    "    LEFT JOIN ADDRESS ON PEOPLE.id = ADDRESS.id\n",
    "    GROUP BY PEOPLE.id\n",
    "    HAVING ADDRESS.updatedate = MAX(ADDRESS.updatedate)\n",
    "\"\"\")\n",
    "display(cur.fetchall())"
   ],
   "metadata": {
    "collapsed": false
   }
  },
  {
   "cell_type": "code",
   "execution_count": null,
   "outputs": [],
   "source": [],
   "metadata": {
    "collapsed": false
   }
  }
 ],
 "metadata": {
  "kernelspec": {
   "display_name": "Python 3",
   "language": "python",
   "name": "python3"
  },
  "language_info": {
   "codemirror_mode": {
    "name": "ipython",
    "version": 2
   },
   "file_extension": ".py",
   "mimetype": "text/x-python",
   "name": "python",
   "nbconvert_exporter": "python",
   "pygments_lexer": "ipython2",
   "version": "2.7.6"
  }
 },
 "nbformat": 4,
 "nbformat_minor": 0
}
