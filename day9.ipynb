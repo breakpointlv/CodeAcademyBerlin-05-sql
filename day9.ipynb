{
 "cells": [
  {
   "cell_type": "code",
   "execution_count": 6,
   "metadata": {
    "collapsed": true
   },
   "outputs": [
    {
     "name": "stdout",
     "output_type": "stream",
     "text": [
      "Imported SQL lines:  62324\n"
     ]
    }
   ],
   "source": [
    "import pandas as pd\n",
    "import sqlite3\n",
    "\n",
    "csvfile = 'cran_logs_2015_01_01.csv'\n",
    "\n",
    "con = sqlite3.connect(\"day9.db\")\n",
    "\n",
    "sql_lines = pd.read_csv(csvfile, delimiter=\",\").to_sql('cran_logs', con, if_exists='replace', index=False)\n",
    "print(\"Imported SQL lines:\", sql_lines)\n",
    "\n",
    "cur = con.cursor()"
   ]
  },
  {
   "cell_type": "markdown",
   "source": [
    "# cran_logs columns\n",
    "- download_date\n",
    "- time\n",
    "- size\n",
    "- r_version\n",
    "- r_arch\n",
    "- r_os\n",
    "- package\n",
    "- version\n",
    "- country\n",
    "- ip_id"
   ],
   "metadata": {
    "collapsed": false
   }
  },
  {
   "cell_type": "code",
   "execution_count": 16,
   "outputs": [
    {
     "data": {
      "text/plain": "[('digest', 1009),\n ('DBI', 973),\n ('plyr', 896),\n ('manipulate', 877),\n ('Rcpp', 867),\n ('ggplot2', 817),\n ('RColorBrewer', 746),\n ('reshape2', 717),\n ('rJava', 641),\n ('stringr', 585)]"
     },
     "metadata": {},
     "output_type": "display_data"
    }
   ],
   "source": [
    "# -- 9.1 Give the package name and how many times they're downloaded. Order by the 2nd column descently.\n",
    "cur.execute(\"\"\"\n",
    "    SELECT package, COUNT(package)\n",
    "    FROM cran_logs\n",
    "    GROUP BY package\n",
    "    ORDER BY COUNT(package) DESC\n",
    "    LIMIT 10\n",
    "\"\"\")\n",
    "display(cur.fetchall())"
   ],
   "metadata": {
    "collapsed": false
   }
  },
  {
   "cell_type": "code",
   "execution_count": 20,
   "outputs": [
    {
     "data": {
      "text/plain": "[('DBI', 83, 1),\n ('ggplot2', 74, 2),\n ('digest', 73, 3),\n ('reshape2', 67, 4),\n ('RColorBrewer', 66, 5),\n ('plyr', 61, 6),\n ('colorspace', 61, 6),\n ('Rcpp', 59, 8),\n ('scales', 58, 9),\n ('munsell', 56, 10)]"
     },
     "metadata": {},
     "output_type": "display_data"
    }
   ],
   "source": [
    "# -- 9.2 Give the package ranking (based on how many times it was downloaded) during 9AM to 11AM\n",
    "cur.execute(\"\"\"\n",
    "    SELECT\n",
    "        package,\n",
    "        COUNT(package),\n",
    "        RANK() OVER (ORDER BY  COUNT(package) DESC) AS rank\n",
    "    FROM cran_logs\n",
    "    WHERE `time` >= '09:00:00' AND `time` <= '11:00:00'\n",
    "    GROUP BY package\n",
    "    ORDER BY COUNT(package) DESC\n",
    "    LIMIT 10\n",
    "\"\"\")\n",
    "display(cur.fetchall())"
   ],
   "metadata": {
    "collapsed": false
   }
  },
  {
   "cell_type": "code",
   "execution_count": 22,
   "outputs": [
    {
     "data": {
      "text/plain": "[('CN', 6424), ('JP', 1887), ('SG', 481)]"
     },
     "metadata": {},
     "output_type": "display_data"
    }
   ],
   "source": [
    "# -- 9.3 How many recordings are from China (\"CN\") or Japan(\"JP\") or Singapore (\"SG\")?\n",
    "cur.execute(\"\"\"\n",
    "    SELECT\n",
    "        country,\n",
    "        COUNT(country)\n",
    "    FROM cran_logs\n",
    "    WHERE country IN ('CN', 'JP', 'SG')\n",
    "    GROUP BY country\n",
    "    ORDER BY COUNT(country) DESC\n",
    "    LIMIT 10\n",
    "\"\"\")\n",
    "display(cur.fetchall())"
   ],
   "metadata": {
    "collapsed": false
   }
  },
  {
   "cell_type": "code",
   "execution_count": 28,
   "outputs": [
    {
     "data": {
      "text/plain": "[('US', 20113), ('FR', 6504)]"
     },
     "metadata": {},
     "output_type": "display_data"
    }
   ],
   "source": [
    "# -- 9.4 Print the countries whose downloaded are more than the downloads from China (\"CN\")\n",
    "cur.execute(\"\"\"\n",
    "    SELECT\n",
    "        country,\n",
    "        COUNT(country) AS cnt\n",
    "    FROM cran_logs\n",
    "    GROUP BY country\n",
    "    HAVING cnt > (SELECT COUNT(*) FROM cran_logs WHERE country = 'CN')\n",
    "    ORDER BY COUNT(country) DESC\n",
    "\"\"\")\n",
    "display(cur.fetchall())"
   ],
   "metadata": {
    "collapsed": false
   }
  },
  {
   "cell_type": "code",
   "execution_count": 31,
   "outputs": [
    {
     "data": {
      "text/plain": "6.712950322031448"
     },
     "metadata": {},
     "output_type": "display_data"
    }
   ],
   "source": [
    "# -- 9.5 Print the average length of the package name of all the UNIQUE packages\n",
    "cur.execute(\"\"\"\n",
    "    SELECT\n",
    "        AVG(LENGTH(DISTINCT package))\n",
    "    FROM cran_logs\n",
    "\"\"\")\n",
    "display(cur.fetchone()[0])"
   ],
   "metadata": {
    "collapsed": false
   }
  },
  {
   "cell_type": "code",
   "execution_count": 34,
   "outputs": [
    {
     "data": {
      "text/plain": "[('DBI', 973)]"
     },
     "metadata": {},
     "output_type": "display_data"
    }
   ],
   "source": [
    "# -- 9.6 Get the package whose download count ranks 2nd (print package name and its download count).\n",
    "cur.execute(\"\"\"\n",
    "    SELECT package, COUNT(package)\n",
    "    FROM cran_logs\n",
    "    GROUP BY package\n",
    "    ORDER BY COUNT(package) DESC\n",
    "    LIMIT 1, 1\n",
    "\"\"\")\n",
    "display(cur.fetchall())"
   ],
   "metadata": {
    "collapsed": false
   }
  },
  {
   "cell_type": "code",
   "execution_count": 36,
   "outputs": [
    {
     "data": {
      "text/plain": "[('digest', 1009)]"
     },
     "metadata": {},
     "output_type": "display_data"
    }
   ],
   "source": [
    "# -- 9.7 Print the name of the package whose download count is bigger than 1000.\n",
    "cur.execute(\"\"\"\n",
    "    SELECT package, COUNT(package)\n",
    "    FROM cran_logs\n",
    "    GROUP BY package\n",
    "    HAVING COUNT(package) > 1000\n",
    "    ORDER BY COUNT(package) DESC\n",
    "\"\"\")\n",
    "display(cur.fetchall())"
   ],
   "metadata": {
    "collapsed": false
   }
  },
  {
   "cell_type": "code",
   "execution_count": 43,
   "outputs": [
    {
     "data": {
      "text/plain": "[('mingw32', 28994, 100),\n ('linux-gnu', 15487, 100),\n ('darwin13.4.0', 3098, 100),\n ('darwin10.8.0', 2527, 100),\n ('darwin13.1.0', 1675, 100),\n ('darwin9.8.0', 292, 100),\n ('darwin14.0.0', 231, 100),\n ('darwin14.1.0', 23, 100),\n ('darwin13.3.0', 12, 100),\n ('linux-gnueabihf', 5, 100),\n ('darwin13.2.0', 2, 100),\n (None, 0, None)]"
     },
     "metadata": {},
     "output_type": "display_data"
    }
   ],
   "source": [
    "# -- 9.8 The field \"r_os\" is the operating system of the users.\n",
    "#    -- \tHere we would like to know what main system we have (ignore version number), the relevant counts, and the proportion (in percentage).\n",
    "cur.execute(\"\"\"\n",
    "    SELECT\n",
    "        r_os,\n",
    "        COUNT(r_os) AS cnt,\n",
    "        100 * COUNT(r_os)/SUM(COUNT(r_os)) OVER (PARTITION BY r_os) AS share\n",
    "    FROM cran_logs\n",
    "    GROUP BY r_os\n",
    "    ORDER BY cnt DESC\n",
    "\"\"\")\n",
    "display(cur.fetchall())"
   ],
   "metadata": {
    "collapsed": false
   }
  },
  {
   "cell_type": "code",
   "execution_count": null,
   "outputs": [],
   "source": [],
   "metadata": {
    "collapsed": false
   }
  }
 ],
 "metadata": {
  "kernelspec": {
   "display_name": "Python 3",
   "language": "python",
   "name": "python3"
  },
  "language_info": {
   "codemirror_mode": {
    "name": "ipython",
    "version": 2
   },
   "file_extension": ".py",
   "mimetype": "text/x-python",
   "name": "python",
   "nbconvert_exporter": "python",
   "pygments_lexer": "ipython2",
   "version": "2.7.6"
  }
 },
 "nbformat": 4,
 "nbformat_minor": 0
}
