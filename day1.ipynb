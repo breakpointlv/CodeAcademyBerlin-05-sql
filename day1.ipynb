{
 "cells": [
  {
   "cell_type": "code",
   "execution_count": 42,
   "metadata": {
    "collapsed": true
   },
   "outputs": [],
   "source": [
    "import sqlite3\n",
    "con = sqlite3.connect(\"products.db\")\n",
    "cur = con.cursor()"
   ]
  },
  {
   "cell_type": "code",
   "execution_count": 43,
   "outputs": [
    {
     "data": {
      "text/plain": "<sqlite3.Cursor at 0x7f1b56edf440>"
     },
     "execution_count": 43,
     "metadata": {},
     "output_type": "execute_result"
    }
   ],
   "source": [
    "cur.execute(\"DROP TABLE IF EXISTS Manufacturers\")\n",
    "cur.execute(\"DROP TABLE IF EXISTS Products\")"
   ],
   "metadata": {
    "collapsed": false
   }
  },
  {
   "cell_type": "code",
   "execution_count": 44,
   "outputs": [
    {
     "data": {
      "text/plain": "<sqlite3.Cursor at 0x7f1b56edf440>"
     },
     "execution_count": 44,
     "metadata": {},
     "output_type": "execute_result"
    }
   ],
   "source": [
    "cur.execute(\"\"\"\n",
    "    CREATE TABLE IF NOT EXISTS Manufacturers (\n",
    "      Code INTEGER,\n",
    "      Name TEXT NOT NULL,\n",
    "      PRIMARY KEY (Code)\n",
    "    )\n",
    "\"\"\")\n",
    "cur.execute(\"\"\"\n",
    "    CREATE TABLE IF NOT EXISTS Products (\n",
    "      Code INTEGER,\n",
    "      Name TEXT NOT NULL,\n",
    "      Price INTEGER NOT NULL,\n",
    "      Manufacturer INTEGER NOT NULL,\n",
    "      PRIMARY KEY (Code)\n",
    "    )\n",
    "\"\"\")"
   ],
   "metadata": {
    "collapsed": false
   }
  },
  {
   "cell_type": "code",
   "execution_count": 45,
   "outputs": [],
   "source": [
    "inserts = [\n",
    "    \"INSERT INTO Manufacturers(Code,Name) VALUES(1,'Sony')\",\n",
    "    \"INSERT INTO Manufacturers(Code,Name) VALUES(2,'Creative Labs')\",\n",
    "    \"INSERT INTO Manufacturers(Code,Name) VALUES(3,'Hewlett-Packard')\",\n",
    "    \"INSERT INTO Manufacturers(Code,Name) VALUES(4,'Iomega')\",\n",
    "    \"INSERT INTO Manufacturers(Code,Name) VALUES(5,'Fujitsu')\",\n",
    "    \"INSERT INTO Manufacturers(Code,Name) VALUES(6,'Winchester')\",\n",
    "    \n",
    "    \"INSERT INTO Products(Code,Name,Price,Manufacturer) VALUES(1,'Hard drive',240,5)\",\n",
    "    \"INSERT INTO Products(Code,Name,Price,Manufacturer) VALUES(2,'Memory',120,6)\",\n",
    "    \"INSERT INTO Products(Code,Name,Price,Manufacturer) VALUES(3,'ZIP drive',150,4)\",\n",
    "    \"INSERT INTO Products(Code,Name,Price,Manufacturer) VALUES(4,'Floppy disk',5,6)\",\n",
    "    \"INSERT INTO Products(Code,Name,Price,Manufacturer) VALUES(5,'Monitor',240,1)\",\n",
    "    \"INSERT INTO Products(Code,Name,Price,Manufacturer) VALUES(6,'DVD drive',180,2)\",\n",
    "    \"INSERT INTO Products(Code,Name,Price,Manufacturer) VALUES(7,'CD drive',90,2)\",\n",
    "    \"INSERT INTO Products(Code,Name,Price,Manufacturer) VALUES(8,'Printer',270,3)\",\n",
    "    \"INSERT INTO Products(Code,Name,Price,Manufacturer) VALUES(9,'Toner cartridge',66,3)\",\n",
    "    \"INSERT INTO Products(Code,Name,Price,Manufacturer) VALUES(10,'DVD burner',180,2)\",\n",
    "]\n",
    "for q in inserts:\n",
    "    cur.execute(q)\n",
    "\n",
    "con.commit()"
   ],
   "metadata": {
    "collapsed": false
   }
  },
  {
   "cell_type": "markdown",
   "source": [
    "# 1.1 Select the names of all the products in the store."
   ],
   "metadata": {
    "collapsed": false
   }
  },
  {
   "cell_type": "markdown",
   "source": [],
   "metadata": {
    "collapsed": false
   }
  },
  {
   "cell_type": "code",
   "execution_count": 46,
   "outputs": [
    {
     "data": {
      "text/plain": "[('Hard drive',),\n ('Memory',),\n ('ZIP drive',),\n ('Floppy disk',),\n ('Monitor',),\n ('DVD drive',),\n ('CD drive',),\n ('Printer',),\n ('Toner cartridge',),\n ('DVD burner',)]"
     },
     "metadata": {},
     "output_type": "display_data"
    }
   ],
   "source": [
    "r = cur.execute(\"SELECT Name FROM Products\")\n",
    "display(r.fetchall())"
   ],
   "metadata": {
    "collapsed": false
   }
  },
  {
   "cell_type": "markdown",
   "source": [
    "# 1.2 Select the names and the prices of all the products in the store."
   ],
   "metadata": {
    "collapsed": false
   }
  },
  {
   "cell_type": "code",
   "execution_count": 47,
   "outputs": [
    {
     "data": {
      "text/plain": "[('Hard drive', 240),\n ('Memory', 120),\n ('ZIP drive', 150),\n ('Floppy disk', 5),\n ('Monitor', 240),\n ('DVD drive', 180),\n ('CD drive', 90),\n ('Printer', 270),\n ('Toner cartridge', 66),\n ('DVD burner', 180)]"
     },
     "metadata": {},
     "output_type": "display_data"
    }
   ],
   "source": [
    "r = cur.execute(\"SELECT Name, Price FROM Products\")\n",
    "display(r.fetchall())"
   ],
   "metadata": {
    "collapsed": false
   }
  },
  {
   "cell_type": "markdown",
   "source": [
    "# 1.3 Select the name of the products with a price less than or equal to $200."
   ],
   "metadata": {
    "collapsed": false
   }
  },
  {
   "cell_type": "code",
   "execution_count": 48,
   "outputs": [
    {
     "data": {
      "text/plain": "[('Memory',),\n ('ZIP drive',),\n ('Floppy disk',),\n ('DVD drive',),\n ('CD drive',),\n ('Toner cartridge',),\n ('DVD burner',)]"
     },
     "metadata": {},
     "output_type": "display_data"
    }
   ],
   "source": [
    "r = cur.execute(\"SELECT Name FROM Products WHERE Price <= 200\")\n",
    "display(r.fetchall())"
   ],
   "metadata": {
    "collapsed": false
   }
  },
  {
   "cell_type": "markdown",
   "source": [
    "#  1.4 Select all the products with a price between $60 and $120."
   ],
   "metadata": {
    "collapsed": false
   }
  },
  {
   "cell_type": "code",
   "execution_count": 49,
   "outputs": [
    {
     "data": {
      "text/plain": "[('Memory',), ('CD drive',), ('Toner cartridge',)]"
     },
     "metadata": {},
     "output_type": "display_data"
    }
   ],
   "source": [
    "r = cur.execute(\"SELECT Name FROM Products WHERE Price BETWEEN 60 AND 120\")\n",
    "display(r.fetchall())"
   ],
   "metadata": {
    "collapsed": false
   }
  },
  {
   "cell_type": "markdown",
   "source": [
    "# 1.5 Select the name and price in cents (i.e., the price must be multiplied by 100)."
   ],
   "metadata": {
    "collapsed": false
   }
  },
  {
   "cell_type": "code",
   "execution_count": 50,
   "outputs": [
    {
     "data": {
      "text/plain": "[('Hard drive', 24000),\n ('Memory', 12000),\n ('ZIP drive', 15000),\n ('Floppy disk', 500),\n ('Monitor', 24000),\n ('DVD drive', 18000),\n ('CD drive', 9000),\n ('Printer', 27000),\n ('Toner cartridge', 6600),\n ('DVD burner', 18000)]"
     },
     "metadata": {},
     "output_type": "display_data"
    }
   ],
   "source": [
    "r = cur.execute(\"SELECT Name, Price*100 FROM Products\")\n",
    "display(r.fetchall())"
   ],
   "metadata": {
    "collapsed": false
   }
  },
  {
   "cell_type": "markdown",
   "source": [
    "# 1.6 Compute the average price of all the products."
   ],
   "metadata": {
    "collapsed": false
   }
  },
  {
   "cell_type": "code",
   "execution_count": 51,
   "outputs": [
    {
     "data": {
      "text/plain": "154.1"
     },
     "metadata": {},
     "output_type": "display_data"
    }
   ],
   "source": [
    "r = cur.execute(\"SELECT AVG(Price) FROM Products\")\n",
    "display(r.fetchone()[0])"
   ],
   "metadata": {
    "collapsed": false
   }
  },
  {
   "cell_type": "markdown",
   "source": [
    "# 1.7 Compute the average price of all products with manufacturer code equal to 2."
   ],
   "metadata": {
    "collapsed": false
   }
  },
  {
   "cell_type": "code",
   "execution_count": 52,
   "outputs": [
    {
     "data": {
      "text/plain": "150.0"
     },
     "metadata": {},
     "output_type": "display_data"
    }
   ],
   "source": [
    "r = cur.execute(\"SELECT AVG(Price) FROM Products WHERE Manufacturer = 2\")\n",
    "display(r.fetchone()[0])"
   ],
   "metadata": {
    "collapsed": false
   }
  },
  {
   "cell_type": "markdown",
   "source": [
    "# 1.8 Compute the number of products with a price larger than or equal to $180."
   ],
   "metadata": {
    "collapsed": false
   }
  },
  {
   "cell_type": "code",
   "execution_count": 53,
   "outputs": [
    {
     "data": {
      "text/plain": "5"
     },
     "metadata": {},
     "output_type": "display_data"
    }
   ],
   "source": [
    "r = cur.execute(\"SELECT COUNT(*) FROM Products WHERE Price >= 180\")\n",
    "display(r.fetchone()[0])"
   ],
   "metadata": {
    "collapsed": false
   }
  },
  {
   "cell_type": "markdown",
   "source": [
    "# 1.9 Select the name and price of all products with a price larger than or equal to $180, and sort first by price (in descending order), and then by name (in ascending order)."
   ],
   "metadata": {
    "collapsed": false
   }
  },
  {
   "cell_type": "code",
   "execution_count": 54,
   "outputs": [
    {
     "data": {
      "text/plain": "[('Printer', 270),\n ('Hard drive', 240),\n ('Monitor', 240),\n ('DVD burner', 180),\n ('DVD drive', 180)]"
     },
     "metadata": {},
     "output_type": "display_data"
    }
   ],
   "source": [
    "r = cur.execute(\"\"\"\n",
    "    SELECT Name, Price\n",
    "    FROM Products\n",
    "    WHERE Price >= 180\n",
    "    ORDER BY Price DESC, Name ASC\n",
    "\"\"\")\n",
    "display(r.fetchall())"
   ],
   "metadata": {
    "collapsed": false
   }
  },
  {
   "cell_type": "markdown",
   "source": [
    "# 1.10 Select all the data from the products, including all the data for each product's manufacturer."
   ],
   "metadata": {
    "collapsed": false
   }
  },
  {
   "cell_type": "code",
   "execution_count": 55,
   "outputs": [
    {
     "data": {
      "text/plain": "[(1, 'Hard drive', 240, 5, 5, 'Fujitsu'),\n (2, 'Memory', 120, 6, 6, 'Winchester'),\n (3, 'ZIP drive', 150, 4, 4, 'Iomega'),\n (4, 'Floppy disk', 5, 6, 6, 'Winchester'),\n (5, 'Monitor', 240, 1, 1, 'Sony'),\n (6, 'DVD drive', 180, 2, 2, 'Creative Labs'),\n (7, 'CD drive', 90, 2, 2, 'Creative Labs'),\n (8, 'Printer', 270, 3, 3, 'Hewlett-Packard'),\n (9, 'Toner cartridge', 66, 3, 3, 'Hewlett-Packard'),\n (10, 'DVD burner', 180, 2, 2, 'Creative Labs')]"
     },
     "metadata": {},
     "output_type": "display_data"
    }
   ],
   "source": [
    "r = cur.execute(\"\"\"\n",
    "    SELECT *\n",
    "    FROM Products\n",
    "    JOIN Manufacturers\n",
    "    ON Products.Manufacturer = Manufacturers.Code\n",
    "\"\"\")\n",
    "display(r.fetchall())"
   ],
   "metadata": {
    "collapsed": false
   }
  },
  {
   "cell_type": "markdown",
   "source": [
    "# 1.11 Select the product name, price, and manufacturer name of all the products."
   ],
   "metadata": {
    "collapsed": false
   }
  },
  {
   "cell_type": "code",
   "execution_count": 56,
   "outputs": [
    {
     "data": {
      "text/plain": "[('Hard drive', 240, 'Fujitsu'),\n ('Memory', 120, 'Winchester'),\n ('ZIP drive', 150, 'Iomega'),\n ('Floppy disk', 5, 'Winchester'),\n ('Monitor', 240, 'Sony'),\n ('DVD drive', 180, 'Creative Labs'),\n ('CD drive', 90, 'Creative Labs'),\n ('Printer', 270, 'Hewlett-Packard'),\n ('Toner cartridge', 66, 'Hewlett-Packard'),\n ('DVD burner', 180, 'Creative Labs')]"
     },
     "metadata": {},
     "output_type": "display_data"
    }
   ],
   "source": [
    "r = cur.execute(\"\"\"\n",
    "    SELECT Products.Name, Products.Price, Manufacturers.Name\n",
    "    FROM Products\n",
    "    JOIN Manufacturers\n",
    "    ON Products.Manufacturer = Manufacturers.Code\n",
    "\"\"\")\n",
    "display(r.fetchall())"
   ],
   "metadata": {
    "collapsed": false
   }
  },
  {
   "cell_type": "code",
   "execution_count": 57,
   "outputs": [],
   "source": [
    "# Select the average price of each manufacturer's products, showing only the manufacturer's code."
   ],
   "metadata": {
    "collapsed": false
   }
  },
  {
   "cell_type": "code",
   "execution_count": 58,
   "outputs": [
    {
     "data": {
      "text/plain": "[(5, 240.0), (1, 240.0), (3, 168.0), (4, 150.0), (2, 150.0), (6, 62.5)]"
     },
     "metadata": {},
     "output_type": "display_data"
    }
   ],
   "source": [
    "r = cur.execute(\"\"\"\n",
    "    SELECT Manufacturers.Code, AVG(Products.Price)\n",
    "    FROM Manufacturers\n",
    "    JOIN Products\n",
    "    ON Manufacturers.Code = Products.Manufacturer\n",
    "    GROUP BY Manufacturers.Code\n",
    "    ORDER BY AVG(Products.Price) DESC\n",
    "\"\"\")\n",
    "display(r.fetchall())"
   ],
   "metadata": {
    "collapsed": false
   }
  },
  {
   "cell_type": "code",
   "execution_count": 59,
   "outputs": [],
   "source": [
    "# Select the average price of each manufacturer's products, showing the manufacturer's name."
   ],
   "metadata": {
    "collapsed": false
   }
  },
  {
   "cell_type": "code",
   "execution_count": 60,
   "outputs": [
    {
     "data": {
      "text/plain": "[('Sony', 240.0),\n ('Fujitsu', 240.0),\n ('Hewlett-Packard', 168.0),\n ('Iomega', 150.0),\n ('Creative Labs', 150.0),\n ('Winchester', 62.5)]"
     },
     "metadata": {},
     "output_type": "display_data"
    }
   ],
   "source": [
    "r = cur.execute(\"\"\"\n",
    "    SELECT Manufacturers.Name, AVG(Products.Price)\n",
    "    FROM Manufacturers\n",
    "    JOIN Products\n",
    "    ON Manufacturers.Code = Products.Manufacturer\n",
    "    GROUP BY Manufacturers.Name\n",
    "    ORDER BY AVG(Products.Price) DESC\n",
    "\"\"\")\n",
    "display(r.fetchall())"
   ],
   "metadata": {
    "collapsed": false
   }
  },
  {
   "cell_type": "markdown",
   "source": [
    "# 1.14 Select the names of manufacturer whose products have an average price larger than or equal to $150."
   ],
   "metadata": {
    "collapsed": false
   }
  },
  {
   "cell_type": "code",
   "execution_count": 61,
   "outputs": [
    {
     "data": {
      "text/plain": "[('Creative Labs',),\n ('Fujitsu',),\n ('Hewlett-Packard',),\n ('Iomega',),\n ('Sony',)]"
     },
     "metadata": {},
     "output_type": "display_data"
    }
   ],
   "source": [
    "r = cur.execute(\"\"\"\n",
    "    SELECT Manufacturers.Name\n",
    "    FROM Manufacturers\n",
    "    JOIN Products\n",
    "    ON Manufacturers.Code = Products.Manufacturer\n",
    "    GROUP BY Manufacturers.Name\n",
    "    HAVING AVG(Products.Price) >= 150\n",
    "\"\"\")\n",
    "display(r.fetchall())"
   ],
   "metadata": {
    "collapsed": false
   }
  },
  {
   "cell_type": "markdown",
   "source": [
    "# 1.15 Select the name and price of the cheapest product."
   ],
   "metadata": {
    "collapsed": false
   }
  },
  {
   "cell_type": "code",
   "execution_count": 62,
   "outputs": [
    {
     "data": {
      "text/plain": "('Floppy disk', 5)"
     },
     "metadata": {},
     "output_type": "display_data"
    }
   ],
   "source": [
    "r = cur.execute(\"\"\"\n",
    "    SELECT Name, Price\n",
    "    FROM Products\n",
    "    ORDER BY Price ASC\n",
    "    LIMIT 1\n",
    "\"\"\")\n",
    "display(r.fetchone())"
   ],
   "metadata": {
    "collapsed": false
   }
  },
  {
   "cell_type": "markdown",
   "source": [
    "# 1.16 Select the name of each manufacturer along with the name and price of its most expensive product."
   ],
   "metadata": {
    "collapsed": false
   }
  },
  {
   "cell_type": "code",
   "execution_count": 63,
   "outputs": [
    {
     "data": {
      "text/plain": "[('Sony', 240),\n ('Creative Labs', 180),\n ('Hewlett-Packard', 270),\n ('Iomega', 150),\n ('Fujitsu', 240),\n ('Winchester', 120)]"
     },
     "metadata": {},
     "output_type": "display_data"
    }
   ],
   "source": [
    "r = cur.execute(\"\"\"\n",
    "    SELECT Manufacturers.Name, MAX(Products.Price)\n",
    "    FROM Products\n",
    "    JOIN Manufacturers ON Products.Manufacturer = Manufacturers.Code\n",
    "    GROUP BY Manufacturers.Code\n",
    "\"\"\")\n",
    "display(r.fetchall())"
   ],
   "metadata": {
    "collapsed": false
   }
  },
  {
   "cell_type": "markdown",
   "source": [
    "# 1.17 Add a new product: Loudspeakers, $70, manufacturer 2."
   ],
   "metadata": {
    "collapsed": false
   }
  },
  {
   "cell_type": "code",
   "execution_count": 64,
   "outputs": [],
   "source": [
    "cur.execute(\"\"\"\n",
    "    INSERT INTO Products(Name, Price, Manufacturer)\n",
    "    VALUES('Loudspeakers', 70, 2)\n",
    "\"\"\")\n",
    "con.commit()"
   ],
   "metadata": {
    "collapsed": false
   }
  },
  {
   "cell_type": "markdown",
   "source": [
    "# 1.18 Update the name of product 8 to \"Laser Printer\"."
   ],
   "metadata": {
    "collapsed": false
   }
  },
  {
   "cell_type": "code",
   "execution_count": 65,
   "outputs": [],
   "source": [
    "cur.execute(\"\"\"\n",
    "    UPDATE Products\n",
    "    SET Name = 'Laser Printer'\n",
    "    WHERE Code = 8\n",
    "\"\"\")\n",
    "con.commit()"
   ],
   "metadata": {
    "collapsed": false
   }
  },
  {
   "cell_type": "markdown",
   "source": [
    "# 1.19 Apply a 10% discount to all products."
   ],
   "metadata": {
    "collapsed": false
   }
  },
  {
   "cell_type": "code",
   "execution_count": 66,
   "outputs": [],
   "source": [
    "cur.execute(\"\"\"\n",
    "    UPDATE Products\n",
    "    SET Price = ROUND(Price * 0.9, 2)\n",
    "\"\"\")\n",
    "con.commit()"
   ],
   "metadata": {
    "collapsed": false
   }
  },
  {
   "cell_type": "markdown",
   "source": [
    "# 1.20 Apply a 10% discount to all products with a price larger than or equal to $120."
   ],
   "metadata": {
    "collapsed": false
   }
  },
  {
   "cell_type": "code",
   "execution_count": 67,
   "outputs": [],
   "source": [
    "cur.execute(\"\"\"\n",
    "    UPDATE Products\n",
    "    SET Price = ROUND(Price * 0.9, 2)\n",
    "    WHERE Price >= 120\n",
    "\"\"\")\n",
    "con.commit()"
   ],
   "metadata": {
    "collapsed": false
   }
  },
  {
   "cell_type": "code",
   "execution_count": null,
   "outputs": [],
   "source": [],
   "metadata": {
    "collapsed": false
   }
  }
 ],
 "metadata": {
  "kernelspec": {
   "display_name": "Python 3",
   "language": "python",
   "name": "python3"
  },
  "language_info": {
   "codemirror_mode": {
    "name": "ipython",
    "version": 2
   },
   "file_extension": ".py",
   "mimetype": "text/x-python",
   "name": "python",
   "nbconvert_exporter": "python",
   "pygments_lexer": "ipython2",
   "version": "2.7.6"
  }
 },
 "nbformat": 4,
 "nbformat_minor": 0
}
