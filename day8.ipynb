{
 "cells": [
  {
   "cell_type": "code",
   "execution_count": 1,
   "metadata": {
    "collapsed": true
   },
   "outputs": [],
   "source": [
    "import sqlite3\n",
    "con = sqlite3.connect(\"day8.db\")\n",
    "cur = con.cursor()\n",
    "\n",
    "cur.executescript(\"\"\"\n",
    "CREATE TABLE Physician (\n",
    "EmployeeID INTEGER NOT NULL,\n",
    "Name TEXT NOT NULL,\n",
    "Position TEXT NOT NULL,\n",
    "SSN INTEGER NOT NULL,\n",
    "PRIMARY KEY (EmployeeID)\n",
    ");\n",
    "\n",
    "CREATE TABLE Department (\n",
    "DepartmentID INTEGER NOT NULL,\n",
    "Name TEXT NOT NULL,\n",
    "Head INTEGER NOT NULL,\n",
    "PRIMARY KEY (DepartmentID)\n",
    ");\n",
    "\n",
    "CREATE TABLE Affiliated_With (\n",
    "Physician INTEGER NOT NULL,\n",
    "Department INTEGER NOT NULL,\n",
    "PrimaryAffiliation BOOLEAN NOT NULL,\n",
    "PRIMARY KEY(Physician, Department)\n",
    ");\n",
    "\n",
    "CREATE TABLE Procedures (\n",
    "Code INTEGER NOT NULL,\n",
    "Name TEXT NOT NULL,\n",
    "Cost REAL NOT NULL,\n",
    "PRIMARY KEY (Code)\n",
    ");\n",
    "\n",
    "CREATE TABLE Trained_In (\n",
    "Physician INTEGER NOT NULL,\n",
    "Treatment INTEGER NOT NULL,\n",
    "CertificationDate DATETIME NOT NULL,\n",
    "CertificationExpires DATETIME NOT NULL,\n",
    "PRIMARY KEY(Physician, Treatment)\n",
    ");\n",
    "\n",
    "CREATE TABLE Patient (\n",
    "SSN INTEGER NOT NULL,\n",
    "Name TEXT NOT NULL,\n",
    "Address TEXT NOT NULL,\n",
    "Phone TEXT NOT NULL,\n",
    "InsuranceID INTEGER NOT NULL,\n",
    "PCP INTEGER NOT NULL,\n",
    "PRIMARY KEY (SSN)\n",
    ");\n",
    "\n",
    "CREATE TABLE Nurse (\n",
    "EmployeeID INTEGER NOT NULL,\n",
    "Name TEXT NOT NULL,\n",
    "Position TEXT NOT NULL,\n",
    "Registered BOOLEAN NOT NULL,\n",
    "SSN INTEGER NOT NULL,\n",
    "PRIMARY KEY (EmployeeID)\n",
    ");\n",
    "\n",
    "CREATE TABLE Appointment (\n",
    "AppointmentID INTEGER NOT NULL,\n",
    "Patient INTEGER NOT NULL,\n",
    "PrepNurse INTEGER,\n",
    "Physician INTEGER NOT NULL,\n",
    "Start DATETIME NOT NULL,\n",
    "End DATETIME NOT NULL,\n",
    "ExaminationRoom TEXT NOT NULL,\n",
    "PRIMARY KEY (AppointmentID)\n",
    ");\n",
    "\n",
    "CREATE TABLE Medication (\n",
    "Code INTEGER NOT NULL,\n",
    "Name TEXT NOT NULL,\n",
    "Brand TEXT NOT NULL,\n",
    "Description TEXT NOT NULL,\n",
    "PRIMARY KEY(Code)\n",
    ");\n",
    "\n",
    "CREATE TABLE Prescribes (\n",
    "Physician INTEGER NOT NULL,\n",
    "Patient INTEGER NOT NULL,\n",
    "Medication INTEGER NOT NULL,\n",
    "Date DATETIME NOT NULL,\n",
    "Appointment INTEGER,\n",
    "Dose TEXT NOT NULL,\n",
    "PRIMARY KEY(Physician, Patient, Medication, Date)\n",
    ");\n",
    "\n",
    "CREATE TABLE Block (\n",
    "Floor INTEGER NOT NULL,\n",
    "Code INTEGER NOT NULL,\n",
    "PRIMARY KEY(Floor, Code)\n",
    ");\n",
    "\n",
    "CREATE TABLE Room (\n",
    "Number INTEGER NOT NULL,\n",
    "Type TEXT NOT NULL,\n",
    "BlockFloor INTEGER NOT NULL,\n",
    "BlockCode INTEGER NOT NULL,\n",
    "Unavailable BOOLEAN NOT NULL,\n",
    "PRIMARY KEY(Number)\n",
    ");\n",
    "\n",
    "CREATE TABLE On_Call (\n",
    "Nurse INTEGER NOT NULL,\n",
    "BlockFloor INTEGER NOT NULL,\n",
    "BlockCode INTEGER NOT NULL,\n",
    "Start DATETIME NOT NULL,\n",
    "End DATETIME NOT NULL,\n",
    "PRIMARY KEY(Nurse, BlockFloor, BlockCode, Start, End)\n",
    ");\n",
    "\n",
    "CREATE TABLE Stay (\n",
    "StayID INTEGER NOT NULL,\n",
    "Patient INTEGER NOT NULL,\n",
    "Room INTEGER NOT NULL,\n",
    "Start DATETIME NOT NULL,\n",
    "End DATETIME NOT NULL,\n",
    "PRIMARY KEY(StayID)\n",
    ");\n",
    "\n",
    "CREATE TABLE Undergoes (\n",
    "Patient INTEGER NOT NULL,\n",
    "Procedure INTEGER NOT NULL,\n",
    "Stay INTEGER NOT NULL,\n",
    "Date DATETIME NOT NULL,\n",
    "Physician INTEGER NOT NULL,\n",
    "AssistingNurse INTEGER,\n",
    "PRIMARY KEY(Patient, Procedure, Stay, Date)\n",
    ");\n",
    "\n",
    "\n",
    "INSERT INTO Physician VALUES(1,'John Dorian','Staff Internist',111111111);\n",
    "INSERT INTO Physician VALUES(2,'Elliot Reid','Attending Physician',222222222);\n",
    "INSERT INTO Physician VALUES(3,'Christopher Turk','Surgical Attending Physician',333333333);\n",
    "INSERT INTO Physician VALUES(4,'Percival Cox','Senior Attending Physician',444444444);\n",
    "INSERT INTO Physician VALUES(5,'Bob Kelso','Head Chief of Medicine',555555555);\n",
    "INSERT INTO Physician VALUES(6,'Todd Quinlan','Surgical Attending Physician',666666666);\n",
    "INSERT INTO Physician VALUES(7,'John Wen','Surgical Attending Physician',777777777);\n",
    "INSERT INTO Physician VALUES(8,'Keith Dudemeister','MD Resident',888888888);\n",
    "INSERT INTO Physician VALUES(9,'Molly Clock','Attending Psychiatrist',999999999);\n",
    "\n",
    "INSERT INTO Department VALUES(1,'General Medicine',4);\n",
    "INSERT INTO Department VALUES(2,'Surgery',7);\n",
    "INSERT INTO Department VALUES(3,'Psychiatry',9);\n",
    "\n",
    "INSERT INTO Affiliated_With VALUES(1,1,1);\n",
    "INSERT INTO Affiliated_With VALUES(2,1,1);\n",
    "INSERT INTO Affiliated_With VALUES(3,1,0);\n",
    "INSERT INTO Affiliated_With VALUES(3,2,1);\n",
    "INSERT INTO Affiliated_With VALUES(4,1,1);\n",
    "INSERT INTO Affiliated_With VALUES(5,1,1);\n",
    "INSERT INTO Affiliated_With VALUES(6,2,1);\n",
    "INSERT INTO Affiliated_With VALUES(7,1,0);\n",
    "INSERT INTO Affiliated_With VALUES(7,2,1);\n",
    "INSERT INTO Affiliated_With VALUES(8,1,1);\n",
    "INSERT INTO Affiliated_With VALUES(9,3,1);\n",
    "\n",
    "INSERT INTO Procedures VALUES(1,'Reverse Rhinopodoplasty',1500.0);\n",
    "INSERT INTO Procedures VALUES(2,'Obtuse Pyloric Recombobulation',3750.0);\n",
    "INSERT INTO Procedures VALUES(3,'Folded Demiophtalmectomy',4500.0);\n",
    "INSERT INTO Procedures VALUES(4,'Complete Walletectomy',10000.0);\n",
    "INSERT INTO Procedures VALUES(5,'Obfuscated Dermogastrotomy',4899.0);\n",
    "INSERT INTO Procedures VALUES(6,'Reversible Pancreomyoplasty',5600.0);\n",
    "INSERT INTO Procedures VALUES(7,'Follicular Demiectomy',25.0);\n",
    "\n",
    "INSERT INTO Patient VALUES(100000001,'John Smith','42 Foobar Lane','555-0256',68476213,1);\n",
    "INSERT INTO Patient VALUES(100000002,'Grace Ritchie','37 Snafu Drive','555-0512',36546321,2);\n",
    "INSERT INTO Patient VALUES(100000003,'Random J. Patient','101 Omgbbq Street','555-1204',65465421,2);\n",
    "INSERT INTO Patient VALUES(100000004,'Dennis Doe','1100 Foobaz Avenue','555-2048',68421879,3);\n",
    "\n",
    "INSERT INTO Nurse VALUES(101,'Carla Espinosa','Head Nurse',1,111111110);\n",
    "INSERT INTO Nurse VALUES(102,'Laverne Roberts','Nurse',1,222222220);\n",
    "INSERT INTO Nurse VALUES(103,'Paul Flowers','Nurse',0,333333330);\n",
    "\n",
    "INSERT INTO Appointment VALUES(13216584,100000001,101,1,'2008-04-24 10:00','2008-04-24 11:00','A');\n",
    "INSERT INTO Appointment VALUES(26548913,100000002,101,2,'2008-04-24 10:00','2008-04-24 11:00','B');\n",
    "INSERT INTO Appointment VALUES(36549879,100000001,102,1,'2008-04-25 10:00','2008-04-25 11:00','A');\n",
    "INSERT INTO Appointment VALUES(46846589,100000004,103,4,'2008-04-25 10:00','2008-04-25 11:00','B');\n",
    "INSERT INTO Appointment VALUES(59871321,100000004,NULL,4,'2008-04-26 10:00','2008-04-26 11:00','C');\n",
    "INSERT INTO Appointment VALUES(69879231,100000003,103,2,'2008-04-26 11:00','2008-04-26 12:00','C');\n",
    "INSERT INTO Appointment VALUES(76983231,100000001,NULL,3,'2008-04-26 12:00','2008-04-26 13:00','C');\n",
    "INSERT INTO Appointment VALUES(86213939,100000004,102,9,'2008-04-27 10:00','2008-04-21 11:00','A');\n",
    "INSERT INTO Appointment VALUES(93216548,100000002,101,2,'2008-04-27 10:00','2008-04-27 11:00','B');\n",
    "\n",
    "INSERT INTO Medication VALUES(1,'Procrastin-X','X','N/A');\n",
    "INSERT INTO Medication VALUES(2,'Thesisin','Foo Labs','N/A');\n",
    "INSERT INTO Medication VALUES(3,'Awakin','Bar Laboratories','N/A');\n",
    "INSERT INTO Medication VALUES(4,'Crescavitin','Baz Industries','N/A');\n",
    "INSERT INTO Medication VALUES(5,'Melioraurin','Snafu Pharmaceuticals','N/A');\n",
    "\n",
    "INSERT INTO Prescribes VALUES(1,100000001,1,'2008-04-24 10:47',13216584,'5');\n",
    "INSERT INTO Prescribes VALUES(9,100000004,2,'2008-04-27 10:53',86213939,'10');\n",
    "INSERT INTO Prescribes VALUES(9,100000004,2,'2008-04-30 16:53',NULL,'5');\n",
    "\n",
    "INSERT INTO Block VALUES(1,1);\n",
    "INSERT INTO Block VALUES(1,2);\n",
    "INSERT INTO Block VALUES(1,3);\n",
    "INSERT INTO Block VALUES(2,1);\n",
    "INSERT INTO Block VALUES(2,2);\n",
    "INSERT INTO Block VALUES(2,3);\n",
    "INSERT INTO Block VALUES(3,1);\n",
    "INSERT INTO Block VALUES(3,2);\n",
    "INSERT INTO Block VALUES(3,3);\n",
    "INSERT INTO Block VALUES(4,1);\n",
    "INSERT INTO Block VALUES(4,2);\n",
    "INSERT INTO Block VALUES(4,3);\n",
    "\n",
    "INSERT INTO Room VALUES(101,'Single',1,1,0);\n",
    "INSERT INTO Room VALUES(102,'Single',1,1,0);\n",
    "INSERT INTO Room VALUES(103,'Single',1,1,0);\n",
    "INSERT INTO Room VALUES(111,'Single',1,2,0);\n",
    "INSERT INTO Room VALUES(112,'Single',1,2,1);\n",
    "INSERT INTO Room VALUES(113,'Single',1,2,0);\n",
    "INSERT INTO Room VALUES(121,'Single',1,3,0);\n",
    "INSERT INTO Room VALUES(122,'Single',1,3,0);\n",
    "INSERT INTO Room VALUES(123,'Single',1,3,0);\n",
    "INSERT INTO Room VALUES(201,'Single',2,1,1);\n",
    "INSERT INTO Room VALUES(202,'Single',2,1,0);\n",
    "INSERT INTO Room VALUES(203,'Single',2,1,0);\n",
    "INSERT INTO Room VALUES(211,'Single',2,2,0);\n",
    "INSERT INTO Room VALUES(212,'Single',2,2,0);\n",
    "INSERT INTO Room VALUES(213,'Single',2,2,1);\n",
    "INSERT INTO Room VALUES(221,'Single',2,3,0);\n",
    "INSERT INTO Room VALUES(222,'Single',2,3,0);\n",
    "INSERT INTO Room VALUES(223,'Single',2,3,0);\n",
    "INSERT INTO Room VALUES(301,'Single',3,1,0);\n",
    "INSERT INTO Room VALUES(302,'Single',3,1,1);\n",
    "INSERT INTO Room VALUES(303,'Single',3,1,0);\n",
    "INSERT INTO Room VALUES(311,'Single',3,2,0);\n",
    "INSERT INTO Room VALUES(312,'Single',3,2,0);\n",
    "INSERT INTO Room VALUES(313,'Single',3,2,0);\n",
    "INSERT INTO Room VALUES(321,'Single',3,3,1);\n",
    "INSERT INTO Room VALUES(322,'Single',3,3,0);\n",
    "INSERT INTO Room VALUES(323,'Single',3,3,0);\n",
    "INSERT INTO Room VALUES(401,'Single',4,1,0);\n",
    "INSERT INTO Room VALUES(402,'Single',4,1,1);\n",
    "INSERT INTO Room VALUES(403,'Single',4,1,0);\n",
    "INSERT INTO Room VALUES(411,'Single',4,2,0);\n",
    "INSERT INTO Room VALUES(412,'Single',4,2,0);\n",
    "INSERT INTO Room VALUES(413,'Single',4,2,0);\n",
    "INSERT INTO Room VALUES(421,'Single',4,3,1);\n",
    "INSERT INTO Room VALUES(422,'Single',4,3,0);\n",
    "INSERT INTO Room VALUES(423,'Single',4,3,0);\n",
    "\n",
    "INSERT INTO On_Call VALUES(101,1,1,'2008-11-04 11:00','2008-11-04 19:00');\n",
    "INSERT INTO On_Call VALUES(101,1,2,'2008-11-04 11:00','2008-11-04 19:00');\n",
    "INSERT INTO On_Call VALUES(102,1,3,'2008-11-04 11:00','2008-11-04 19:00');\n",
    "INSERT INTO On_Call VALUES(103,1,1,'2008-11-04 19:00','2008-11-05 03:00');\n",
    "INSERT INTO On_Call VALUES(103,1,2,'2008-11-04 19:00','2008-11-05 03:00');\n",
    "INSERT INTO On_Call VALUES(103,1,3,'2008-11-04 19:00','2008-11-05 03:00');\n",
    "\n",
    "INSERT INTO Stay VALUES(3215,100000001,111,'2008-05-01','2008-05-04');\n",
    "INSERT INTO Stay VALUES(3216,100000003,123,'2008-05-03','2008-05-14');\n",
    "INSERT INTO Stay VALUES(3217,100000004,112,'2008-05-02','2008-05-03');\n",
    "\n",
    "INSERT INTO Undergoes VALUES(100000001,6,3215,'2008-05-02',3,101);\n",
    "INSERT INTO Undergoes VALUES(100000001,2,3215,'2008-05-03',7,101);\n",
    "INSERT INTO Undergoes VALUES(100000004,1,3217,'2008-05-07',3,102);\n",
    "INSERT INTO Undergoes VALUES(100000004,5,3217,'2008-05-09',6,NULL);\n",
    "INSERT INTO Undergoes VALUES(100000001,7,3217,'2008-05-10',7,101);\n",
    "INSERT INTO Undergoes VALUES(100000004,4,3217,'2008-05-13',3,103);\n",
    "\n",
    "INSERT INTO Trained_In VALUES(3,1,'2008-01-01','2008-12-31');\n",
    "INSERT INTO Trained_In VALUES(3,2,'2008-01-01','2008-12-31');\n",
    "INSERT INTO Trained_In VALUES(3,5,'2008-01-01','2008-12-31');\n",
    "INSERT INTO Trained_In VALUES(3,6,'2008-01-01','2008-12-31');\n",
    "INSERT INTO Trained_In VALUES(3,7,'2008-01-01','2008-12-31');\n",
    "INSERT INTO Trained_In VALUES(6,2,'2008-01-01','2008-12-31');\n",
    "INSERT INTO Trained_In VALUES(6,5,'2007-01-01','2007-12-31');\n",
    "INSERT INTO Trained_In VALUES(6,6,'2008-01-01','2008-12-31');\n",
    "INSERT INTO Trained_In VALUES(7,1,'2008-01-01','2008-12-31');\n",
    "INSERT INTO Trained_In VALUES(7,2,'2008-01-01','2008-12-31');\n",
    "INSERT INTO Trained_In VALUES(7,3,'2008-01-01','2008-12-31');\n",
    "INSERT INTO Trained_In VALUES(7,4,'2008-01-01','2008-12-31');\n",
    "INSERT INTO Trained_In VALUES(7,5,'2008-01-01','2008-12-31');\n",
    "INSERT INTO Trained_In VALUES(7,6,'2008-01-01','2008-12-31');\n",
    "INSERT INTO Trained_In VALUES(7,7,'2008-01-01','2008-12-31');\n",
    "\"\"\")\n",
    "con.commit()"
   ]
  },
  {
   "cell_type": "code",
   "execution_count": 26,
   "outputs": [
    {
     "data": {
      "text/plain": "[('John Dorian',),\n ('Elliot Reid',),\n ('Christopher Turk',),\n ('Percival Cox',),\n ('Bob Kelso',),\n ('Keith Dudemeister',),\n ('Molly Clock',)]"
     },
     "metadata": {},
     "output_type": "display_data"
    },
    {
     "data": {
      "text/plain": "[('John Dorian',),\n ('Elliot Reid',),\n ('Percival Cox',),\n ('Bob Kelso',),\n ('Keith Dudemeister',),\n ('Molly Clock',)]"
     },
     "metadata": {},
     "output_type": "display_data"
    }
   ],
   "source": [
    "# -- 8.1 Obtain the names of all physicians that have performed a medical procedure they have never been certified to perform.\n",
    "cur.execute(\"\"\"\n",
    "    SELECT ph.name\n",
    "    FROM Physician AS ph\n",
    "    LEFT JOIN Undergoes AS u ON ph.EmployeeID = u.Physician\n",
    "    LEFT JOIN Procedures AS pr ON pr.Code = u.Procedure\n",
    "    LEFT JOIN Trained_IN as tr ON tr.Treatment = pr.Code AND tr.Physician = ph.EmployeeID\n",
    "    WHERE tr.Physician IS NULL\n",
    "\"\"\")\n",
    "display(cur.fetchall())\n",
    "\n",
    "cur.execute(\"\"\"\n",
    "    SELECT ph.name\n",
    "    FROM Physician AS ph\n",
    "    LEFT JOIN Undergoes AS u ON ph.EmployeeID = u.Physician\n",
    "    LEFT JOIN Procedures AS pr ON pr.Code = u.Procedure\n",
    "    WHERE NOT EXISTS(\n",
    "        SELECT * FROM Trained_IN WHERE Physician = ph.EmployeeID\n",
    "    )\n",
    "\"\"\")\n",
    "display(cur.fetchall())"
   ],
   "metadata": {
    "collapsed": false
   }
  },
  {
   "cell_type": "code",
   "execution_count": 31,
   "outputs": [
    {
     "data": {
      "text/plain": "[('Christopher Turk', 'Complete Walletectomy', '2008-05-13', 'Dennis Doe')]"
     },
     "metadata": {},
     "output_type": "display_data"
    }
   ],
   "source": [
    "# -- 8.2 Same as the previous query, but include the following information in the results: Physician name, name of procedure, date when the procedure was carried out, name of the patient the procedure was carried out on.\n",
    "cur.execute(\"\"\"\n",
    "    SELECT ph.name, pr.Name, u.Date, pa.Name\n",
    "    FROM Physician AS ph\n",
    "    JOIN Undergoes AS u ON ph.EmployeeID = u.Physician\n",
    "    LEFT JOIN Patient AS pa ON u.Patient = pa.SSN\n",
    "    LEFT JOIN Procedures AS pr ON pr.Code = u.Procedure\n",
    "    WHERE NOT EXISTS(\n",
    "        SELECT * FROM Trained_IN WHERE Physician = ph.EmployeeID AND Treatment = pr.Code\n",
    "    )\n",
    "\"\"\")\n",
    "display(cur.fetchall())"
   ],
   "metadata": {
    "collapsed": false
   }
  },
  {
   "cell_type": "code",
   "execution_count": 36,
   "outputs": [
    {
     "data": {
      "text/plain": "[('Todd Quinlan', 'Obfuscated Dermogastrotomy', '2008-05-09', 'Dennis Doe')]"
     },
     "metadata": {},
     "output_type": "display_data"
    }
   ],
   "source": [
    "# -- 8.3 Obtain the names of all physicians that have performed a medical procedure that they are certified to perform, but such that the procedure was done at a date (Undergoes.Date) after the physician's certification expired (Trained_In.CertificationExpires).\n",
    "cur.execute(\"\"\"\n",
    "    SELECT ph.name, pr.Name, u.Date, pa.Name\n",
    "    FROM Physician AS ph\n",
    "    JOIN Undergoes AS u ON ph.EmployeeID = u.Physician\n",
    "    LEFT JOIN Patient AS pa ON u.Patient = pa.SSN\n",
    "    LEFT JOIN Procedures AS pr ON pr.Code = u.Procedure\n",
    "    WHERE EXISTS(\n",
    "        SELECT * FROM Trained_IN WHERE Physician = ph.EmployeeID AND CertificationExpires < u.Date\n",
    "    )\n",
    "\"\"\")\n",
    "display(cur.fetchall())"
   ],
   "metadata": {
    "collapsed": false
   }
  },
  {
   "cell_type": "code",
   "execution_count": 35,
   "outputs": [
    {
     "data": {
      "text/plain": "[('Todd Quinlan',\n  'Obfuscated Dermogastrotomy',\n  '2008-05-09',\n  'Dennis Doe',\n  '2008-12-31'),\n ('Todd Quinlan',\n  'Obfuscated Dermogastrotomy',\n  '2008-05-09',\n  'Dennis Doe',\n  '2007-12-31'),\n ('Todd Quinlan',\n  'Obfuscated Dermogastrotomy',\n  '2008-05-09',\n  'Dennis Doe',\n  '2008-12-31')]"
     },
     "metadata": {},
     "output_type": "display_data"
    }
   ],
   "source": [
    "# -- 8.4 Same as the previous query, but include the following information in the results: Physician name, name of procedure, date when the procedure was carried out, name of the patient the procedure was carried out on, and date when the certification expired.\n",
    "cur.execute(\"\"\"\n",
    "    SELECT ph.name, pr.Name, u.Date, pa.Name, tr.CertificationExpires\n",
    "    FROM Physician AS ph\n",
    "    JOIN Undergoes AS u ON ph.EmployeeID = u.Physician\n",
    "    LEFT JOIN Patient AS pa ON u.Patient = pa.SSN\n",
    "    LEFT JOIN Procedures AS pr ON pr.Code = u.Procedure\n",
    "    JOIN Trained_IN AS tr ON tr.Physician = u.Physician\n",
    "    WHERE EXISTS(\n",
    "        SELECT * FROM Trained_IN WHERE Physician = ph.EmployeeID AND CertificationExpires < u.Date\n",
    "    )\n",
    "\"\"\")\n",
    "display(cur.fetchall())"
   ],
   "metadata": {
    "collapsed": false
   }
  },
  {
   "cell_type": "code",
   "execution_count": 44,
   "outputs": [
    {
     "data": {
      "text/plain": "[('Dennis Doe',\n  'Percival Cox',\n  'Paul Flowers',\n  '2008-04-25 10:00',\n  '2008-04-25 11:00',\n  'B',\n  'Christopher Turk'),\n ('Dennis Doe',\n  'Percival Cox',\n  None,\n  '2008-04-26 10:00',\n  '2008-04-26 11:00',\n  'C',\n  'Christopher Turk'),\n ('John Smith',\n  'Christopher Turk',\n  None,\n  '2008-04-26 12:00',\n  '2008-04-26 13:00',\n  'C',\n  'John Dorian'),\n ('Dennis Doe',\n  'Molly Clock',\n  'Laverne Roberts',\n  '2008-04-27 10:00',\n  '2008-04-21 11:00',\n  'A',\n  'Christopher Turk')]"
     },
     "metadata": {},
     "output_type": "display_data"
    }
   ],
   "source": [
    "# -- 8.5 Obtain the information for appointments where a patient met with a physician other than his/her primary care physician. Show the following information: Patient name, physician name, nurse name (if any), start and end time of appointment, examination room, and the name of the patient's primary care physician.\n",
    "cur.execute(\"\"\"\n",
    "    SELECT pa.Name, ph.Name, n.Name, ap.Start, ap.End, ap.ExaminationRoom, primary_ph.Name\n",
    "    FROM Patient AS pa\n",
    "    JOIN Appointment AS ap ON pa.SSN = ap.Patient\n",
    "    JOIN Physician AS ph ON ap.Physician = ph.EmployeeID\n",
    "    JOIN Physician AS primary_ph ON pa.PCP = primary_ph.EmployeeID\n",
    "    LEFT JOIN Nurse as n ON n.employeeID = ap.PrepNurse\n",
    "    WHERE ap.Physician != pa.PCP\n",
    "\"\"\")\n",
    "display(cur.fetchall())"
   ],
   "metadata": {
    "collapsed": false
   }
  },
  {
   "cell_type": "code",
   "execution_count": 46,
   "outputs": [
    {
     "data": {
      "text/plain": "[(100000001, 100000004)]"
     },
     "metadata": {},
     "output_type": "display_data"
    }
   ],
   "source": [
    "# -- 8.6 The Patient field in Undergoes is redundant, since we can obtain it from the Stay table. There are no constraints in force to prevent inconsistencies between these two tables. More specifically, the Undergoes table may include a row where the patient ID does not match the one we would obtain from the Stay table through the Undergoes.Stay foreign key. Select all rows from Undergoes that exhibit this inconsistency.\n",
    "cur.execute(\"\"\"\n",
    "    SELECT u.Patient, s.Patient\n",
    "    FROM Undergoes AS u\n",
    "    LEFT JOIN Stay as s ON s.StayID = u.Stay\n",
    "    WHERE s.Patient != u.Patient\n",
    "\"\"\")\n",
    "display(cur.fetchall())"
   ],
   "metadata": {
    "collapsed": false
   }
  },
  {
   "cell_type": "code",
   "execution_count": 56,
   "outputs": [
    {
     "data": {
      "text/plain": "[('Carla Espinosa',)]"
     },
     "metadata": {},
     "output_type": "display_data"
    }
   ],
   "source": [
    "# -- 8.7 Obtain the names of all the nurses who have ever been on call for room 123.\n",
    "cur.execute(\"\"\"\n",
    "    SELECT n.Name\n",
    "    FROM Nurse AS n\n",
    "    WHERE NOT EXISTS (\n",
    "        SELECT *\n",
    "        FROM On_Call AS o\n",
    "        LEFT JOIN Block AS b ON b.Floor = o.BlockFloor AND  b.Code = o.BlockCode\n",
    "        LEFT JOIN Room AS r ON b.Floor = r.BlockFloor AND  b.Code = r.BlockCode\n",
    "        WHERE r.Number == 123 AND o.Nurse = n.EmployeeID\n",
    "    )\n",
    "    GROUP BY n.Name\n",
    "\"\"\")\n",
    "display(cur.fetchall())"
   ],
   "metadata": {
    "collapsed": false
   }
  },
  {
   "cell_type": "code",
   "execution_count": 59,
   "outputs": [
    {
     "data": {
      "text/plain": "[(101, 0),\n (102, 0),\n (103, 0),\n (111, 0),\n (112, 0),\n (113, 0),\n (121, 0),\n (122, 0),\n (123, 0),\n (201, 0),\n (202, 0),\n (203, 0),\n (211, 0),\n (212, 0),\n (213, 0),\n (221, 0),\n (222, 0),\n (223, 0),\n (301, 0),\n (302, 0),\n (303, 0),\n (311, 0),\n (312, 0),\n (313, 0),\n (321, 0),\n (322, 0),\n (323, 0),\n (401, 0),\n (402, 0),\n (403, 0),\n (411, 0),\n (412, 0),\n (413, 0),\n (421, 0),\n (422, 0),\n (423, 0)]"
     },
     "metadata": {},
     "output_type": "display_data"
    },
    {
     "data": {
      "text/plain": "[(13216584, 100000001, 101, 1, '2008-04-24 10:00', '2008-04-24 11:00', 'A'),\n (26548913, 100000002, 101, 2, '2008-04-24 10:00', '2008-04-24 11:00', 'B'),\n (36549879, 100000001, 102, 1, '2008-04-25 10:00', '2008-04-25 11:00', 'A'),\n (46846589, 100000004, 103, 4, '2008-04-25 10:00', '2008-04-25 11:00', 'B'),\n (59871321, 100000004, None, 4, '2008-04-26 10:00', '2008-04-26 11:00', 'C'),\n (69879231, 100000003, 103, 2, '2008-04-26 11:00', '2008-04-26 12:00', 'C'),\n (76983231, 100000001, None, 3, '2008-04-26 12:00', '2008-04-26 13:00', 'C'),\n (86213939, 100000004, 102, 9, '2008-04-27 10:00', '2008-04-21 11:00', 'A'),\n (93216548, 100000002, 101, 2, '2008-04-27 10:00', '2008-04-27 11:00', 'B')]"
     },
     "metadata": {},
     "output_type": "display_data"
    }
   ],
   "source": [
    "# -- 8.8 The hospital has several examination rooms where appointments take place. Obtain the number of appointments that have taken place in each examination room.\n",
    "\n",
    "# WRONG QUESTION? There is no connection between those two tables\n",
    "\n",
    "cur.execute(\"\"\"\n",
    "    SELECT r.Number, COUNT(a.AppointmentID)\n",
    "    FROM Room AS r\n",
    "    LEFT JOIN Appointment AS a ON a.ExaminationRoom = r.Number\n",
    "    GROUP BY r.Number\n",
    "\"\"\")\n",
    "display(cur.fetchall())"
   ],
   "metadata": {
    "collapsed": false
   }
  },
  {
   "cell_type": "code",
   "execution_count": 70,
   "outputs": [
    {
     "data": {
      "text/plain": "[]"
     },
     "metadata": {},
     "output_type": "display_data"
    }
   ],
   "source": [
    "# -- 8.9 Obtain the names of all patients and their primary care physician, such that the following are true:\n",
    "#     -- The patient has been prescribed some medication by his/her primary care physician.\n",
    "#     -- The patient has undergone a procedure with a cost larger that $5,000\n",
    "#     -- The patient has had at least two appointments where the nurse who prepared the appointment was a registered nurse.\n",
    "#     -- The patient's primary care physician is not the head of any department.\n",
    "cur.execute(\"\"\"\n",
    "    SELECT pa.Name, ph.Name\n",
    "    FROM Patient AS pa\n",
    "    LEFT JOIN Physician AS ph ON pa.PCP = ph.EmployeeID\n",
    "    WHERE\n",
    "        -- The patient has been prescribed some medication by his/her primary care physician.\n",
    "        EXISTS (\n",
    "            SELECT * FROM Prescribes WHERE Patient = pa.SSN AND Physician = ph.EmployeeID\n",
    "        )\n",
    "        -- The patient has undergone a procedure with a cost larger that $5,000\n",
    "        AND EXISTS (\n",
    "            SELECT *\n",
    "            FROM Undergoes\n",
    "            JOIN Procedures ON Undergoes.Procedure = Procedures.Code\n",
    "            WHERE Procedures.Cost > 5000 AND Undergoes.Patient = pa.SSN\n",
    "        )\n",
    "        -- The patient has had at least two appointments where the nurse who prepared the appointment was a registered nurse.\n",
    "        AND (\n",
    "            SELECT COUNT(Appointment.AppointmentID)\n",
    "            FROM Appointment\n",
    "            JOIN Nurse ON Appointment.PrepNurse = Nurse.EmployeeID\n",
    "            WHERE Nurse.Registered AND Appointment.Patient = pa.SSN\n",
    "        ) > 2\n",
    "        -- The patient's primary care physician is not the head of any department.\n",
    "        AND NOT EXISTS (\n",
    "            SELECT * FROM Department WHERE Head = ph.EmployeeID\n",
    "        )\n",
    "\"\"\")\n",
    "display(cur.fetchall())\n"
   ],
   "metadata": {
    "collapsed": false
   }
  },
  {
   "cell_type": "code",
   "execution_count": null,
   "outputs": [],
   "source": [],
   "metadata": {
    "collapsed": false
   }
  }
 ],
 "metadata": {
  "kernelspec": {
   "display_name": "Python 3",
   "language": "python",
   "name": "python3"
  },
  "language_info": {
   "codemirror_mode": {
    "name": "ipython",
    "version": 2
   },
   "file_extension": ".py",
   "mimetype": "text/x-python",
   "name": "python",
   "nbconvert_exporter": "python",
   "pygments_lexer": "ipython2",
   "version": "2.7.6"
  }
 },
 "nbformat": 4,
 "nbformat_minor": 0
}
