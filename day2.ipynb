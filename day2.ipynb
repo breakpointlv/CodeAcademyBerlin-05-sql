{
 "cells": [
  {
   "cell_type": "code",
   "execution_count": 70,
   "metadata": {
    "collapsed": true
   },
   "outputs": [],
   "source": [
    "import sqlite3\n",
    "con = sqlite3.connect(\"products.db\")\n",
    "cur = con.cursor()"
   ]
  },
  {
   "cell_type": "code",
   "execution_count": 71,
   "outputs": [
    {
     "data": {
      "text/plain": "<sqlite3.Cursor at 0x7f622a430140>"
     },
     "execution_count": 71,
     "metadata": {},
     "output_type": "execute_result"
    }
   ],
   "source": [
    "cur.execute(\"DROP TABLE IF EXISTS Departments\")\n",
    "cur.execute(\"DROP TABLE IF EXISTS Employees\")"
   ],
   "metadata": {
    "collapsed": false
   }
  },
  {
   "cell_type": "code",
   "execution_count": 72,
   "outputs": [],
   "source": [
    "cur.executescript(\"\"\"\n",
    "CREATE TABLE IF NOT EXISTS Departments (\n",
    "  Code INTEGER,\n",
    "  Name TEXT NOT NULL,\n",
    "  Budget decimal NOT NULL,\n",
    "  PRIMARY KEY (Code)\n",
    ");\n",
    "\n",
    "CREATE TABLE IF NOT EXISTS Employees (\n",
    "  SSN INTEGER,\n",
    "  Name varchar(255) NOT NULL ,\n",
    "  LastName varchar(255) NOT NULL ,\n",
    "  Department INTEGER NOT NULL ,\n",
    "  PRIMARY KEY (SSN)\n",
    ");\n",
    "\n",
    "\n",
    "INSERT INTO Departments(Code,Name,Budget) VALUES(14,'IT',65000);\n",
    "INSERT INTO Departments(Code,Name,Budget) VALUES(37,'Accounting',15000);\n",
    "INSERT INTO Departments(Code,Name,Budget) VALUES(59,'Human Resources',240000);\n",
    "INSERT INTO Departments(Code,Name,Budget) VALUES(77,'Research',55000);\n",
    "\n",
    "INSERT INTO Employees(SSN,Name,LastName,Department) VALUES('123234877','Michael','Rogers',14);\n",
    "INSERT INTO Employees(SSN,Name,LastName,Department) VALUES('152934485','Anand','Manikutty',14);\n",
    "INSERT INTO Employees(SSN,Name,LastName,Department) VALUES('222364883','Carol','Smith',37);\n",
    "INSERT INTO Employees(SSN,Name,LastName,Department) VALUES('326587417','Joe','Stevens',37);\n",
    "INSERT INTO Employees(SSN,Name,LastName,Department) VALUES('332154719','Mary-Anne','Foster',14);\n",
    "INSERT INTO Employees(SSN,Name,LastName,Department) VALUES('332569843','George','ODonnell',77);\n",
    "INSERT INTO Employees(SSN,Name,LastName,Department) VALUES('546523478','John','Doe',59);\n",
    "INSERT INTO Employees(SSN,Name,LastName,Department) VALUES('631231482','David','Smith',77);\n",
    "INSERT INTO Employees(SSN,Name,LastName,Department) VALUES('654873219','Zacary','Efron',59);\n",
    "INSERT INTO Employees(SSN,Name,LastName,Department) VALUES('745685214','Eric','Goldsmith',59);\n",
    "INSERT INTO Employees(SSN,Name,LastName,Department) VALUES('845657245','Elizabeth','Doe',14);\n",
    "INSERT INTO Employees(SSN,Name,LastName,Department) VALUES('845657246','Kumar','Swamy',14);\n",
    "\"\"\")\n",
    "con.commit()"
   ],
   "metadata": {
    "collapsed": false
   }
  },
  {
   "cell_type": "markdown",
   "source": [
    "# -- 2.1 Select the last name of all employees."
   ],
   "metadata": {
    "collapsed": false
   }
  },
  {
   "cell_type": "code",
   "execution_count": 73,
   "outputs": [
    {
     "name": "stdout",
     "output_type": "stream",
     "text": [
      "[('Rogers',), ('Manikutty',), ('Smith',), ('Stevens',), ('Foster',), ('ODonnell',), ('Doe',), ('Smith',), ('Efron',), ('Goldsmith',), ('Doe',), ('Swamy',)]\n"
     ]
    }
   ],
   "source": [
    "cur.execute(\"SELECT LastName FROM Employees\")\n",
    "print(cur.fetchall())"
   ],
   "metadata": {
    "collapsed": false
   }
  },
  {
   "cell_type": "markdown",
   "source": [
    "# -- 2.2 Select the last name of all employees, without duplicates."
   ],
   "metadata": {
    "collapsed": false
   }
  },
  {
   "cell_type": "code",
   "execution_count": 74,
   "outputs": [
    {
     "name": "stdout",
     "output_type": "stream",
     "text": [
      "[('Rogers',), ('Manikutty',), ('Smith',), ('Stevens',), ('Foster',), ('ODonnell',), ('Doe',), ('Efron',), ('Goldsmith',), ('Swamy',)]\n"
     ]
    }
   ],
   "source": [
    "cur.execute(\"SELECT DISTINCT LastName FROM Employees\")\n",
    "print(cur.fetchall())"
   ],
   "metadata": {
    "collapsed": false
   }
  },
  {
   "cell_type": "markdown",
   "source": [
    "# -- 2.3 Select all the data of employees whose last name is \"Smith\"."
   ],
   "metadata": {
    "collapsed": false
   }
  },
  {
   "cell_type": "code",
   "execution_count": 75,
   "outputs": [
    {
     "name": "stdout",
     "output_type": "stream",
     "text": [
      "[(222364883, 'Carol', 'Smith', 37), (631231482, 'David', 'Smith', 77)]\n"
     ]
    }
   ],
   "source": [
    "cur.execute(\"SELECT * FROM Employees WHERE LastName = 'Smith'\")\n",
    "print(cur.fetchall())"
   ],
   "metadata": {
    "collapsed": false
   }
  },
  {
   "cell_type": "markdown",
   "source": [
    "# -- 2.4 Select all the data of employees whose last name is \"Smith\" or \"Doe\"."
   ],
   "metadata": {
    "collapsed": false
   }
  },
  {
   "cell_type": "code",
   "execution_count": 76,
   "outputs": [
    {
     "name": "stdout",
     "output_type": "stream",
     "text": [
      "[(222364883, 'Carol', 'Smith', 37), (546523478, 'John', 'Doe', 59), (631231482, 'David', 'Smith', 77), (845657245, 'Elizabeth', 'Doe', 14)]\n"
     ]
    }
   ],
   "source": [
    "cur.execute(\"SELECT * FROM Employees WHERE LastName = 'Smith' OR LastName = 'Doe'\")\n",
    "print(cur.fetchall())"
   ],
   "metadata": {
    "collapsed": false
   }
  },
  {
   "cell_type": "markdown",
   "source": [
    "# -- 2.5 Select all the data of employees that work in department 14."
   ],
   "metadata": {
    "collapsed": false
   }
  },
  {
   "cell_type": "code",
   "execution_count": 77,
   "outputs": [
    {
     "name": "stdout",
     "output_type": "stream",
     "text": [
      "[(123234877, 'Michael', 'Rogers', 14), (152934485, 'Anand', 'Manikutty', 14), (332154719, 'Mary-Anne', 'Foster', 14), (845657245, 'Elizabeth', 'Doe', 14), (845657246, 'Kumar', 'Swamy', 14)]\n"
     ]
    }
   ],
   "source": [
    "cur.execute(\"SELECT * FROM Employees WHERE Department = 14\")\n",
    "print(cur.fetchall())"
   ],
   "metadata": {
    "collapsed": false
   }
  },
  {
   "cell_type": "markdown",
   "source": [
    "# -- 2.6 Select all the data of employees that work in department 37 or department 77."
   ],
   "metadata": {
    "collapsed": false
   }
  },
  {
   "cell_type": "code",
   "execution_count": 78,
   "outputs": [
    {
     "name": "stdout",
     "output_type": "stream",
     "text": [
      "[(222364883, 'Carol', 'Smith', 37), (326587417, 'Joe', 'Stevens', 37), (332569843, 'George', 'ODonnell', 77), (631231482, 'David', 'Smith', 77)]\n"
     ]
    }
   ],
   "source": [
    "cur.execute(\"SELECT * FROM Employees WHERE Department = 37 OR Department = 77\")\n",
    "print(cur.fetchall())"
   ],
   "metadata": {
    "collapsed": false
   }
  },
  {
   "cell_type": "markdown",
   "source": [
    "# -- 2.7 Select all the data of employees whose last name begins with an \"S\"."
   ],
   "metadata": {
    "collapsed": false
   }
  },
  {
   "cell_type": "code",
   "execution_count": 79,
   "outputs": [
    {
     "name": "stdout",
     "output_type": "stream",
     "text": [
      "[(222364883, 'Carol', 'Smith', 37), (326587417, 'Joe', 'Stevens', 37), (631231482, 'David', 'Smith', 77), (845657246, 'Kumar', 'Swamy', 14)]\n"
     ]
    }
   ],
   "source": [
    "cur.execute(\"SELECT * FROM Employees WHERE LastName LIKE 'S%'\")\n",
    "print(cur.fetchall())"
   ],
   "metadata": {
    "collapsed": false
   }
  },
  {
   "cell_type": "markdown",
   "source": [
    "# -- 2.8 Select the sum of all the departments' budgets."
   ],
   "metadata": {
    "collapsed": false
   }
  },
  {
   "cell_type": "code",
   "execution_count": 80,
   "outputs": [
    {
     "name": "stdout",
     "output_type": "stream",
     "text": [
      "375000\n"
     ]
    }
   ],
   "source": [
    "cur.execute(\"SELECT SUM(Budget) FROM Departments\")\n",
    "print(cur.fetchone()[0])"
   ],
   "metadata": {
    "collapsed": false
   }
  },
  {
   "cell_type": "markdown",
   "source": [
    "# -- 2.9 Select the number of employees in each department (you only need to show the department code and the number of employees)."
   ],
   "metadata": {
    "collapsed": false
   }
  },
  {
   "cell_type": "code",
   "execution_count": 81,
   "outputs": [
    {
     "name": "stdout",
     "output_type": "stream",
     "text": [
      "[(14, 5), (37, 2), (59, 3), (77, 2)]\n"
     ]
    }
   ],
   "source": [
    "cur.execute(\"SELECT Department, COUNT(*) FROM Employees GROUP BY Department\")\n",
    "print(cur.fetchall())"
   ],
   "metadata": {
    "collapsed": false
   }
  },
  {
   "cell_type": "markdown",
   "source": [
    "# -- 2.10 Select all the data of employees, including each employee's department's data."
   ],
   "metadata": {
    "collapsed": false
   }
  },
  {
   "cell_type": "code",
   "execution_count": 82,
   "outputs": [
    {
     "data": {
      "text/plain": "[(123234877, 'Michael', 'Rogers', 14, 14, 'IT', 65000),\n (152934485, 'Anand', 'Manikutty', 14, 14, 'IT', 65000),\n (222364883, 'Carol', 'Smith', 37, 37, 'Accounting', 15000),\n (326587417, 'Joe', 'Stevens', 37, 37, 'Accounting', 15000),\n (332154719, 'Mary-Anne', 'Foster', 14, 14, 'IT', 65000),\n (332569843, 'George', 'ODonnell', 77, 77, 'Research', 55000),\n (546523478, 'John', 'Doe', 59, 59, 'Human Resources', 240000),\n (631231482, 'David', 'Smith', 77, 77, 'Research', 55000),\n (654873219, 'Zacary', 'Efron', 59, 59, 'Human Resources', 240000),\n (745685214, 'Eric', 'Goldsmith', 59, 59, 'Human Resources', 240000),\n (845657245, 'Elizabeth', 'Doe', 14, 14, 'IT', 65000),\n (845657246, 'Kumar', 'Swamy', 14, 14, 'IT', 65000)]"
     },
     "metadata": {},
     "output_type": "display_data"
    }
   ],
   "source": [
    "cur.execute(\"\"\"\n",
    "    SELECT *\n",
    "    FROM Employees\n",
    "    JOIN Departments ON Employees.Department = Departments.Code\n",
    "\"\"\")\n",
    "display(cur.fetchall())"
   ],
   "metadata": {
    "collapsed": false
   }
  },
  {
   "cell_type": "markdown",
   "source": [
    "# -- 2.11 Select the name and last name of each employee, along with the name and budget of the employee's department."
   ],
   "metadata": {
    "collapsed": false
   }
  },
  {
   "cell_type": "code",
   "execution_count": 83,
   "outputs": [
    {
     "data": {
      "text/plain": "[('Michael', 'Rogers', 'IT', 65000),\n ('Anand', 'Manikutty', 'IT', 65000),\n ('Carol', 'Smith', 'Accounting', 15000),\n ('Joe', 'Stevens', 'Accounting', 15000),\n ('Mary-Anne', 'Foster', 'IT', 65000),\n ('George', 'ODonnell', 'Research', 55000),\n ('John', 'Doe', 'Human Resources', 240000),\n ('David', 'Smith', 'Research', 55000),\n ('Zacary', 'Efron', 'Human Resources', 240000),\n ('Eric', 'Goldsmith', 'Human Resources', 240000),\n ('Elizabeth', 'Doe', 'IT', 65000),\n ('Kumar', 'Swamy', 'IT', 65000)]"
     },
     "metadata": {},
     "output_type": "display_data"
    }
   ],
   "source": [
    "cur.execute(\"\"\"\n",
    "    SELECT Employees.Name, Employees.LastName, Departments.Name, Departments.Budget\n",
    "    FROM Employees\n",
    "    JOIN Departments ON Employees.Department = Departments.Code\n",
    "\"\"\")\n",
    "display(cur.fetchall())"
   ],
   "metadata": {
    "collapsed": false
   }
  },
  {
   "cell_type": "markdown",
   "source": [
    "# -- 2.12 Select the name and last name of employees working for departments with a budget greater than $60,000."
   ],
   "metadata": {
    "collapsed": false
   }
  },
  {
   "cell_type": "code",
   "execution_count": 84,
   "outputs": [
    {
     "data": {
      "text/plain": "[('Michael', 'Rogers'),\n ('Anand', 'Manikutty'),\n ('Mary-Anne', 'Foster'),\n ('John', 'Doe'),\n ('Zacary', 'Efron'),\n ('Eric', 'Goldsmith'),\n ('Elizabeth', 'Doe'),\n ('Kumar', 'Swamy')]"
     },
     "metadata": {},
     "output_type": "display_data"
    }
   ],
   "source": [
    "cur.execute(\"\"\"\n",
    "    SELECT Employees.Name, Employees.LastName\n",
    "    FROM Employees\n",
    "    JOIN Departments ON Employees.Department = Departments.Code\n",
    "    WHERE Departments.Budget > 60000\n",
    "\"\"\")\n",
    "display(cur.fetchall())"
   ],
   "metadata": {
    "collapsed": false
   }
  },
  {
   "cell_type": "markdown",
   "source": [
    "# -- 2.13 Select the departments with a budget larger than the average budget of all the departments."
   ],
   "metadata": {
    "collapsed": false
   }
  },
  {
   "cell_type": "code",
   "execution_count": 85,
   "outputs": [
    {
     "data": {
      "text/plain": "[(59, 'Human Resources', 240000)]"
     },
     "metadata": {},
     "output_type": "display_data"
    }
   ],
   "source": [
    "cur.execute(\"\"\"\n",
    "    SELECT *\n",
    "    FROM Departments\n",
    "    WHERE Budget > (SELECT AVG(Budget) FROM Departments)\n",
    "\"\"\")\n",
    "display(cur.fetchall())"
   ],
   "metadata": {
    "collapsed": false
   }
  },
  {
   "cell_type": "markdown",
   "source": [
    "# -- 2.14 Select the names of departments with more than two employees."
   ],
   "metadata": {
    "collapsed": false
   }
  },
  {
   "cell_type": "code",
   "execution_count": 86,
   "outputs": [
    {
     "data": {
      "text/plain": "[('Human Resources',), ('IT',)]"
     },
     "metadata": {},
     "output_type": "display_data"
    }
   ],
   "source": [
    "cur.execute(\"\"\"\n",
    "    SELECT Departments.Name\n",
    "    FROM Departments\n",
    "    JOIN Employees ON Departments.Code = Employees.Department\n",
    "    GROUP BY Departments.Name\n",
    "    HAVING COUNT(*) > 2\n",
    "\"\"\")\n",
    "display(cur.fetchall())"
   ],
   "metadata": {
    "collapsed": false
   }
  },
  {
   "cell_type": "markdown",
   "source": [
    "# -- 2.15 Select the name and last name of employees working for the two departments with lowest budget."
   ],
   "metadata": {
    "collapsed": false
   }
  },
  {
   "cell_type": "code",
   "execution_count": 87,
   "outputs": [
    {
     "data": {
      "text/plain": "[('Carol', 'Smith'),\n ('Joe', 'Stevens'),\n ('George', 'ODonnell'),\n ('David', 'Smith')]"
     },
     "metadata": {},
     "output_type": "display_data"
    }
   ],
   "source": [
    "cur.execute(\"\"\"\n",
    "    SELECT Employees.Name, Employees.LastName\n",
    "    FROM Employees\n",
    "    JOIN Departments ON Employees.Department = Departments.Code\n",
    "    WHERE Departments.Budget IN (SELECT Budget FROM Departments ORDER BY Budget ASC LIMIT 2)\n",
    "\"\"\")\n",
    "display(cur.fetchall())"
   ],
   "metadata": {
    "collapsed": false
   }
  },
  {
   "cell_type": "markdown",
   "source": [
    "# -- 2.16  Add a new department called \"Quality Assurance\", with a budget of $40,000 and departmental code 11."
   ],
   "metadata": {
    "collapsed": false
   }
  },
  {
   "cell_type": "code",
   "execution_count": 88,
   "outputs": [],
   "source": [
    "cur.execute(\"\"\"\n",
    "    INSERT INTO Departments(Code,Name,Budget) VALUES(11,'Quality Assurance',40000)\n",
    "\"\"\")\n",
    "con.commit()"
   ],
   "metadata": {
    "collapsed": false
   }
  },
  {
   "cell_type": "code",
   "execution_count": 89,
   "outputs": [],
   "source": [
    "# -- And Add an employee called \"Mary Moore\" in that department, with SSN 847-21-9811."
   ],
   "metadata": {
    "collapsed": false
   }
  },
  {
   "cell_type": "code",
   "execution_count": 90,
   "outputs": [],
   "source": [
    "cur.execute(\"\"\"\n",
    "    INSERT INTO Employees(SSN,Name,LastName,Department) VALUES('847219811','Mary','Moore',11)\n",
    "\"\"\")\n",
    "con.commit()"
   ],
   "metadata": {
    "collapsed": false
   }
  },
  {
   "cell_type": "markdown",
   "source": [
    "# -- 2.17 Reduce the budget of all departments by 10%."
   ],
   "metadata": {
    "collapsed": false
   }
  },
  {
   "cell_type": "code",
   "execution_count": 91,
   "outputs": [],
   "source": [
    "cur.execute(\"\"\"\n",
    "    UPDATE Departments\n",
    "    SET Budget = ROUND(Budget * 0.9, 2)\n",
    "\"\"\")\n",
    "con.commit()"
   ],
   "metadata": {
    "collapsed": false
   }
  },
  {
   "cell_type": "markdown",
   "source": [
    "# -- 2.18 Reassign all employees from the Research department (code 77) to the IT department (code 14)."
   ],
   "metadata": {
    "collapsed": false
   }
  },
  {
   "cell_type": "code",
   "execution_count": 92,
   "outputs": [],
   "source": [
    "cur.execute(\"\"\"\n",
    "    UPDATE Employees\n",
    "    SET Department = 14\n",
    "    WHERE Department = 77\n",
    "\"\"\")\n",
    "con.commit()"
   ],
   "metadata": {
    "collapsed": false
   }
  },
  {
   "cell_type": "code",
   "execution_count": 93,
   "outputs": [],
   "source": [
    "# -- 2.19 Delete from the table all employees in the IT department (code 14)."
   ],
   "metadata": {
    "collapsed": false
   }
  },
  {
   "cell_type": "code",
   "execution_count": 94,
   "outputs": [
    {
     "data": {
      "text/plain": "<sqlite3.Cursor at 0x7f622a430140>"
     },
     "execution_count": 94,
     "metadata": {},
     "output_type": "execute_result"
    }
   ],
   "source": [
    "cur.execute(\"\"\"\n",
    "    DELETE FROM Employees\n",
    "    WHERE Department = 14\n",
    "\"\"\")"
   ],
   "metadata": {
    "collapsed": false
   }
  },
  {
   "cell_type": "code",
   "execution_count": 95,
   "outputs": [],
   "source": [
    "# -- 2.20 Delete from the table all employees who work in departments with a budget greater than or equal to $60,000."
   ],
   "metadata": {
    "collapsed": false
   }
  },
  {
   "cell_type": "code",
   "execution_count": 96,
   "outputs": [],
   "source": [
    "cur.execute(\"\"\"\n",
    "    DELETE FROM Employees\n",
    "    WHERE Department IN (SELECT Code FROM Departments WHERE Budget >= 60000)\n",
    "\"\"\")\n",
    "con.commit()"
   ],
   "metadata": {
    "collapsed": false
   }
  },
  {
   "cell_type": "markdown",
   "source": [
    "# -- 2.21 Delete from the table all employees."
   ],
   "metadata": {
    "collapsed": false
   }
  },
  {
   "cell_type": "code",
   "execution_count": 97,
   "outputs": [],
   "source": [
    "cur.execute(\"\"\"\n",
    "    DELETE FROM Employees\n",
    "\"\"\")\n",
    "con.commit()"
   ],
   "metadata": {
    "collapsed": false
   }
  }
 ],
 "metadata": {
  "kernelspec": {
   "display_name": "Python 3",
   "language": "python",
   "name": "python3"
  },
  "language_info": {
   "codemirror_mode": {
    "name": "ipython",
    "version": 2
   },
   "file_extension": ".py",
   "mimetype": "text/x-python",
   "name": "python",
   "nbconvert_exporter": "python",
   "pygments_lexer": "ipython2",
   "version": "2.7.6"
  }
 },
 "nbformat": 4,
 "nbformat_minor": 0
}
