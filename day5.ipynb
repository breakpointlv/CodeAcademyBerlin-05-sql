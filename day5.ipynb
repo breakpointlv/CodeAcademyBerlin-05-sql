{
 "cells": [
  {
   "cell_type": "code",
   "execution_count": 4,
   "metadata": {
    "collapsed": true
   },
   "outputs": [],
   "source": [
    "import sqlite3\n",
    "con = sqlite3.connect(\"products.db\")\n",
    "cur = con.cursor()\n",
    "\n",
    "cur.execute(\"DROP TABLE IF EXISTS Pieces\")\n",
    "cur.execute(\"DROP TABLE IF EXISTS Providers\")\n",
    "cur.execute(\"DROP TABLE IF EXISTS Provides\")\n",
    "\n",
    "cur.executescript(\"\"\"\n",
    "CREATE TABLE Pieces (\n",
    " Code INTEGER NOT NULL,\n",
    " Name TEXT NOT NULL,\n",
    " PRIMARY KEY (Code)\n",
    " );\n",
    "CREATE TABLE Providers (\n",
    " Code VARCHAR(40) NOT NULL,\n",
    " Name TEXT NOT NULL,\n",
    "PRIMARY KEY (Code)\n",
    " );\n",
    "CREATE TABLE Provides (\n",
    " Piece INTEGER,\n",
    " Provider VARCHAR(40),\n",
    " Price INTEGER NOT NULL,\n",
    " PRIMARY KEY(Piece, Provider)\n",
    " );\n",
    "\n",
    "\n",
    "INSERT INTO Providers(Code, Name) VALUES('HAL','Clarke Enterprises');\n",
    "INSERT INTO Providers(Code, Name) VALUES('RBT','Susan Calvin Corp.');\n",
    "INSERT INTO Providers(Code, Name) VALUES('TNBC','Skellington Supplies');\n",
    "\n",
    "INSERT INTO Pieces(Code, Name) VALUES(1,'Sprocket');\n",
    "INSERT INTO Pieces(Code, Name) VALUES(2,'Screw');\n",
    "INSERT INTO Pieces(Code, Name) VALUES(3,'Nut');\n",
    "INSERT INTO Pieces(Code, Name) VALUES(4,'Bolt');\n",
    "\n",
    "INSERT INTO Provides(Piece, Provider, Price) VALUES(1,'HAL',10);\n",
    "INSERT INTO Provides(Piece, Provider, Price) VALUES(1,'RBT',15);\n",
    "INSERT INTO Provides(Piece, Provider, Price) VALUES(2,'HAL',20);\n",
    "INSERT INTO Provides(Piece, Provider, Price) VALUES(2,'RBT',15);\n",
    "INSERT INTO Provides(Piece, Provider, Price) VALUES(2,'TNBC',14);\n",
    "INSERT INTO Provides(Piece, Provider, Price) VALUES(3,'RBT',50);\n",
    "INSERT INTO Provides(Piece, Provider, Price) VALUES(3,'TNBC',45);\n",
    "INSERT INTO Provides(Piece, Provider, Price) VALUES(4,'HAL',5);\n",
    "INSERT INTO Provides(Piece, Provider, Price) VALUES(4,'RBT',7);\n",
    "\"\"\")\n",
    "con.commit()"
   ]
  },
  {
   "cell_type": "code",
   "execution_count": 5,
   "outputs": [
    {
     "data": {
      "text/plain": "[('Sprocket',), ('Screw',), ('Nut',), ('Bolt',)]"
     },
     "metadata": {},
     "output_type": "display_data"
    }
   ],
   "source": [
    "# -- 5.1 Select the name of all the pieces.\n",
    "cur.execute(\"SELECT Name FROM Pieces\")\n",
    "display(cur.fetchall())"
   ],
   "metadata": {
    "collapsed": false
   }
  },
  {
   "cell_type": "code",
   "execution_count": 6,
   "outputs": [
    {
     "data": {
      "text/plain": "[('HAL', 'Clarke Enterprises'),\n ('RBT', 'Susan Calvin Corp.'),\n ('TNBC', 'Skellington Supplies')]"
     },
     "metadata": {},
     "output_type": "display_data"
    }
   ],
   "source": [
    "# -- 5.2  Select all the providers' data.\n",
    "cur.execute(\"SELECT * FROM Providers\")\n",
    "display(cur.fetchall())"
   ],
   "metadata": {
    "collapsed": false
   }
  },
  {
   "cell_type": "code",
   "execution_count": 8,
   "outputs": [
    {
     "data": {
      "text/plain": "[(1, 12.5), (2, 16.333333333333332), (3, 47.5), (4, 6.0)]"
     },
     "metadata": {},
     "output_type": "display_data"
    }
   ],
   "source": [
    "# -- 5.3 Obtain the average price of each piece (show only the piece code and the average price).\n",
    "cur.execute(\"SELECT Piece, AVG(Price) FROM Provides GROUP BY Piece\")\n",
    "display(cur.fetchall())"
   ],
   "metadata": {
    "collapsed": false
   }
  },
  {
   "cell_type": "code",
   "execution_count": 10,
   "outputs": [
    {
     "data": {
      "text/plain": "[('Clarke Enterprises',), ('Susan Calvin Corp.',)]"
     },
     "metadata": {},
     "output_type": "display_data"
    }
   ],
   "source": [
    "# -- 5.4  Obtain the names of all providers who supply piece 1.\n",
    "cur.execute(\"\"\"\n",
    "    SELECT Providers.Name\n",
    "    FROM Providers, Provides\n",
    "    WHERE Providers.Code = Provides.Provider AND Provides.Piece = 1\n",
    "\"\"\")\n",
    "display(cur.fetchall())"
   ],
   "metadata": {
    "collapsed": false
   }
  },
  {
   "cell_type": "code",
   "execution_count": 11,
   "outputs": [
    {
     "data": {
      "text/plain": "[('Sprocket',), ('Screw',), ('Bolt',)]"
     },
     "metadata": {},
     "output_type": "display_data"
    }
   ],
   "source": [
    "# -- 5.5 Select the name of pieces provided by provider with code \"HAL\".\n",
    "cur.execute(\"\"\"\n",
    "    SELECT Pieces.Name\n",
    "    FROM Pieces, Provides\n",
    "    WHERE Pieces.Code = Provides.Piece AND Provides.Provider = 'HAL'\n",
    "\"\"\")\n",
    "display(cur.fetchall())"
   ],
   "metadata": {
    "collapsed": false
   }
  },
  {
   "cell_type": "code",
   "execution_count": 12,
   "outputs": [
    {
     "data": {
      "text/plain": "[('Sprocket', 'Susan Calvin Corp.', 15),\n ('Screw', 'Clarke Enterprises', 20),\n ('Nut', 'Susan Calvin Corp.', 50),\n ('Bolt', 'Susan Calvin Corp.', 7)]"
     },
     "metadata": {},
     "output_type": "display_data"
    }
   ],
   "source": [
    "# -- 5.6 For each piece, find the most expensive offering of that piece and include the piece name, provider name, and price (note that there could be two providers who supply the same piece at the most expensive price).\n",
    "cur.execute(\"\"\"\n",
    "    SELECT Pieces.Name, Providers.Name, Provides.Price\n",
    "    FROM Pieces, Providers, Provides\n",
    "    WHERE Pieces.Code = Provides.Piece AND Providers.Code = Provides.Provider AND Provides.Price = (\n",
    "        SELECT MAX(Price)\n",
    "        FROM Provides\n",
    "        WHERE Provides.Piece = Pieces.Code\n",
    "    )\n",
    "\"\"\")\n",
    "display(cur.fetchall())\n"
   ],
   "metadata": {
    "collapsed": false
   }
  },
  {
   "cell_type": "code",
   "execution_count": 13,
   "outputs": [],
   "source": [
    "# -- 5.7 Add an entry to the database to indicate that \"Skellington Supplies\" (code \"TNBC\") will provide sprockets (code \"1\") for 7 cents each.\n",
    "cur.execute(\"\"\"\n",
    "    INSERT INTO Provides(Piece, Provider, Price) VALUES(1,'TNBC',7)\n",
    "\"\"\")\n",
    "con.commit()"
   ],
   "metadata": {
    "collapsed": false
   }
  },
  {
   "cell_type": "code",
   "execution_count": 15,
   "outputs": [],
   "source": [
    "# -- 5.8 Increase all prices by one cent.\n",
    "cur.execute(\"\"\"\n",
    "    UPDATE Provides\n",
    "    SET Price = Price + 1\n",
    "\"\"\")\n",
    "con.commit()"
   ],
   "metadata": {
    "collapsed": false
   }
  },
  {
   "cell_type": "code",
   "execution_count": 16,
   "outputs": [],
   "source": [
    "# -- 5.9 Update the database to reflect that \"Susan Calvin Corp.\" (code \"RBT\") will not supply bolts (code 4).\n",
    "cur.execute(\"\"\"\n",
    "    DELETE FROM Provides\n",
    "    WHERE Piece = 4 AND Provider = 'RBT'\n",
    "\"\"\")\n",
    "con.commit()"
   ],
   "metadata": {
    "collapsed": false
   }
  },
  {
   "cell_type": "code",
   "execution_count": 17,
   "outputs": [],
   "source": [
    "# -- 5.10 Update the database to reflect that \"Susan Calvin Corp.\" (code \"RBT\") will not supply any pieces (the provider should still remain in the database).\n",
    "cur.execute(\"\"\"\n",
    "    DELETE FROM Provides\n",
    "    WHERE Provider = 'RBT'\n",
    "\"\"\")\n",
    "con.commit()"
   ],
   "metadata": {
    "collapsed": false
   }
  },
  {
   "cell_type": "code",
   "execution_count": null,
   "outputs": [],
   "source": [],
   "metadata": {
    "collapsed": false
   }
  }
 ],
 "metadata": {
  "kernelspec": {
   "display_name": "Python 3",
   "language": "python",
   "name": "python3"
  },
  "language_info": {
   "codemirror_mode": {
    "name": "ipython",
    "version": 2
   },
   "file_extension": ".py",
   "mimetype": "text/x-python",
   "name": "python",
   "nbconvert_exporter": "python",
   "pygments_lexer": "ipython2",
   "version": "2.7.6"
  }
 },
 "nbformat": 4,
 "nbformat_minor": 0
}
