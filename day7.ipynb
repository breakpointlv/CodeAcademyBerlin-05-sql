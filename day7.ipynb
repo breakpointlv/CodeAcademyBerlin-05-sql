{
 "cells": [
  {
   "cell_type": "code",
   "execution_count": 1,
   "metadata": {
    "collapsed": true
   },
   "outputs": [],
   "source": [
    "import sqlite3\n",
    "con = sqlite3.connect(\"products.db\")\n",
    "cur = con.cursor()\n",
    "\n",
    "cur.execute(\"DROP TABLE IF EXISTS Employee\")\n",
    "cur.execute(\"DROP TABLE IF EXISTS Planet\")\n",
    "cur.execute(\"DROP TABLE IF EXISTS Shipment\")\n",
    "cur.execute(\"DROP TABLE IF EXISTS Has_Clearance\")\n",
    "cur.execute(\"DROP TABLE IF EXISTS Package\")\n",
    "\n",
    "cur.executescript(\"\"\"\n",
    "CREATE TABLE Employee (\n",
    "  EmployeeID INTEGER,\n",
    "  Name VARCHAR(255) NOT NULL,\n",
    "  Position VARCHAR(255) NOT NULL,\n",
    "  Salary REAL NOT NULL,\n",
    "  Remarks VARCHAR(255),\n",
    "  PRIMARY KEY (EmployeeID)\n",
    ");\n",
    "\n",
    "CREATE TABLE Planet (\n",
    "  PlanetID INTEGER,\n",
    "  Name VARCHAR(255) NOT NULL,\n",
    "  Coordinates REAL NOT NULL,\n",
    "  PRIMARY KEY (PlanetID)\n",
    ");\n",
    "\n",
    "CREATE TABLE Shipment (\n",
    "  ShipmentID INTEGER,\n",
    "  Date DATE,\n",
    "  Manager INTEGER NOT NULL,\n",
    "  Planet INTEGER NOT NULL,\n",
    "  PRIMARY KEY (ShipmentID)\n",
    ");\n",
    "\n",
    "CREATE TABLE Has_Clearance (\n",
    "  Employee INTEGER NOT NULL,\n",
    "  Planet INTEGER NOT NULL,\n",
    "  Level INTEGER NOT NULL,\n",
    "  PRIMARY KEY(Employee, Planet)\n",
    ");\n",
    "\n",
    "CREATE TABLE Client (\n",
    "  AccountNumber INTEGER,\n",
    "  Name VARCHAR(255) NOT NULL,\n",
    "  PRIMARY KEY (AccountNumber)\n",
    ");\n",
    "\n",
    "CREATE TABLE Package (\n",
    "  Shipment INTEGER NOT NULL,\n",
    "  PackageNumber INTEGER NOT NULL,\n",
    "  Contents VARCHAR(255) NOT NULL,\n",
    "  Weight REAL NOT NULL,\n",
    "  Sender INTEGER NOT NULL,\n",
    "  Recipient INTEGER NOT NULL,\n",
    "  PRIMARY KEY(Shipment, PackageNumber)\n",
    "  );\n",
    "\n",
    "\n",
    "INSERT INTO Client VALUES(1, 'Zapp Brannigan');\n",
    "INSERT INTO Client VALUES(2, \"Al Gore's Head\");\n",
    "INSERT INTO Client VALUES(3, 'Barbados Slim');\n",
    "INSERT INTO Client VALUES(4, 'Ogden Wernstrom');\n",
    "INSERT INTO Client VALUES(5, 'Leo Wong');\n",
    "INSERT INTO Client VALUES(6, 'Lrrr');\n",
    "INSERT INTO Client VALUES(7, 'John Zoidberg');\n",
    "INSERT INTO Client VALUES(8, 'John Zoidfarb');\n",
    "INSERT INTO Client VALUES(9, 'Morbo');\n",
    "INSERT INTO Client VALUES(10, 'Judge John Whitey');\n",
    "INSERT INTO Client VALUES(11, 'Calculon');\n",
    "INSERT INTO Employee VALUES(1, 'Phillip J. Fry', 'Delivery boy', 7500.0, 'Not to be confused with the Philip J. Fry from Hovering Squid World 97a');\n",
    "INSERT INTO Employee VALUES(2, 'Turanga Leela', 'Captain', 10000.0, NULL);\n",
    "INSERT INTO Employee VALUES(3, 'Bender Bending Rodriguez', 'Robot', 7500.0, NULL);\n",
    "INSERT INTO Employee VALUES(4, 'Hubert J. Farnsworth', 'CEO', 20000.0, NULL);\n",
    "INSERT INTO Employee VALUES(5, 'John A. Zoidberg', 'Physician', 25.0, NULL);\n",
    "INSERT INTO Employee VALUES(6, 'Amy Wong', 'Intern', 5000.0, NULL);\n",
    "INSERT INTO Employee VALUES(7, 'Hermes Conrad', 'Bureaucrat', 10000.0, NULL);\n",
    "INSERT INTO Employee VALUES(8, 'Scruffy Scruffington', 'Janitor', 5000.0, NULL);\n",
    "INSERT INTO Planet VALUES(1, 'Omicron Persei 8', 89475345.3545);\n",
    "INSERT INTO Planet VALUES(2, 'Decapod X', 65498463216.3466);\n",
    "INSERT INTO Planet VALUES(3, 'Mars', 32435021.65468);\n",
    "INSERT INTO Planet VALUES(4, 'Omega III', 98432121.5464);\n",
    "INSERT INTO Planet VALUES(5, 'Tarantulon VI', 849842198.354654);\n",
    "INSERT INTO Planet VALUES(6, 'Cannibalon', 654321987.21654);\n",
    "INSERT INTO Planet VALUES(7, 'DogDoo VII', 65498721354.688);\n",
    "INSERT INTO Planet VALUES(8, 'Nintenduu 64', 6543219894.1654);\n",
    "INSERT INTO Planet VALUES(9, 'Amazonia', 65432135979.6547);\n",
    "INSERT INTO Has_Clearance VALUES(1, 1, 2);\n",
    "INSERT INTO Has_Clearance VALUES(1, 2, 3);\n",
    "INSERT INTO Has_Clearance VALUES(2, 3, 2);\n",
    "INSERT INTO Has_Clearance VALUES(2, 4, 4);\n",
    "INSERT INTO Has_Clearance VALUES(3, 5, 2);\n",
    "INSERT INTO Has_Clearance VALUES(3, 6, 4);\n",
    "INSERT INTO Has_Clearance VALUES(4, 7, 1);\n",
    "INSERT INTO Shipment VALUES(1, '3004/05/11', 1, 1);\n",
    "INSERT INTO Shipment VALUES(2, '3004/05/11', 1, 2);\n",
    "INSERT INTO Shipment VALUES(3, NULL, 2, 3);\n",
    "INSERT INTO Shipment VALUES(4, NULL, 2, 4);\n",
    "INSERT INTO Shipment VALUES(5, NULL, 7, 5);\n",
    "INSERT INTO Package VALUES(1, 1, 'Undeclared', 1.5, 1, 2);\n",
    "INSERT INTO Package VALUES(2, 1, 'Undeclared', 10.0, 2, 3);\n",
    "INSERT INTO Package VALUES(2, 2, 'A bucket of krill', 2.0, 8, 7);\n",
    "INSERT INTO Package VALUES(3, 1, 'Undeclared', 15.0, 3, 4);\n",
    "INSERT INTO Package VALUES(3, 2, 'Undeclared', 3.0, 5, 1);\n",
    "INSERT INTO Package VALUES(3, 3, 'Undeclared', 7.0, 2, 3);\n",
    "INSERT INTO Package VALUES(4, 1, 'Undeclared', 5.0, 4, 5);\n",
    "INSERT INTO Package VALUES(4, 2, 'Undeclared', 27.0, 1, 2);\n",
    "INSERT INTO Package VALUES(5, 1, 'Undeclared', 100.0, 5, 1);\n",
    "\"\"\")\n",
    "con.commit()"
   ]
  },
  {
   "cell_type": "code",
   "execution_count": 5,
   "outputs": [
    {
     "data": {
      "text/plain": "[(\"Al Gore's Head\", 1.5)]"
     },
     "metadata": {},
     "output_type": "display_data"
    }
   ],
   "source": [
    "# -- 7.1 Who received a 1.5kg package?\n",
    "#    -- The result is \"Al Gore's Head\".\n",
    "cur.execute(\"\"\"\n",
    "    SELECT c.name, p.Weight\n",
    "    FROM Client AS c\n",
    "    JOIN Package AS p ON p.Recipient = c.AccountNumber\n",
    "    WHERE p.weight = 1.5\n",
    "\"\"\")\n",
    "display(cur.fetchall())"
   ],
   "metadata": {
    "collapsed": false
   }
  },
  {
   "cell_type": "code",
   "execution_count": 6,
   "outputs": [
    {
     "data": {
      "text/plain": "17.0"
     },
     "metadata": {},
     "output_type": "display_data"
    }
   ],
   "source": [
    "# -- 7.2 What is the total weight of all the packages that he sent?\n",
    "cur.execute(\"\"\"\n",
    "    SELECT SUM(p2.Weight)\n",
    "    FROM Client AS c\n",
    "    JOIN Package AS p ON p.Recipient = c.AccountNumber\n",
    "    JOIN Package AS p2 ON p2.Sender = c.AccountNumber\n",
    "    WHERE p.weight = 1.5\n",
    "\"\"\")\n",
    "display(cur.fetchone()[0])"
   ],
   "metadata": {
    "collapsed": false
   }
  },
  {
   "cell_type": "code",
   "execution_count": null,
   "outputs": [],
   "source": [],
   "metadata": {
    "collapsed": false
   }
  }
 ],
 "metadata": {
  "kernelspec": {
   "display_name": "Python 3",
   "language": "python",
   "name": "python3"
  },
  "language_info": {
   "codemirror_mode": {
    "name": "ipython",
    "version": 2
   },
   "file_extension": ".py",
   "mimetype": "text/x-python",
   "name": "python",
   "nbconvert_exporter": "python",
   "pygments_lexer": "ipython2",
   "version": "2.7.6"
  }
 },
 "nbformat": 4,
 "nbformat_minor": 0
}
