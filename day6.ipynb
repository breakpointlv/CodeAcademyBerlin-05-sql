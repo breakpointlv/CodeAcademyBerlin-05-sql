{
 "cells": [
  {
   "cell_type": "code",
   "execution_count": 8,
   "metadata": {
    "collapsed": true
   },
   "outputs": [],
   "source": [
    "import sqlite3\n",
    "con = sqlite3.connect(\"products.db\")\n",
    "cur = con.cursor()\n",
    "\n",
    "cur.execute(\"DROP TABLE IF EXISTS Scientists\")\n",
    "cur.execute(\"DROP TABLE IF EXISTS Projects\")\n",
    "cur.execute(\"DROP TABLE IF EXISTS AssignedTo\")\n",
    "\n",
    "cur.executescript(\"\"\"\n",
    "CREATE TABLE Scientists (\n",
    "  SSN int,\n",
    "  Name Char(30) not null,\n",
    "  Primary Key (SSN)\n",
    ");\n",
    "\n",
    "CREATE TABLE Projects (\n",
    "  Code Char(4),\n",
    "  Name Char(50) not null,\n",
    "  Hours int,\n",
    "  Primary Key (Code)\n",
    ");\n",
    "\n",
    "CREATE TABLE AssignedTo (\n",
    "  Scientist int not null,\n",
    "  Project char(4) not null,\n",
    "  Primary Key (Scientist, Project)\n",
    ");\n",
    "\n",
    "INSERT INTO Scientists(SSN,Name)\n",
    "VALUES(123234877,'Michael Rogers'),\n",
    "(152934485,'Anand Manikutty'),\n",
    "(222364883, 'Carol Smith'),\n",
    "(326587417,'Joe Stevens'),\n",
    "(332154719,'Mary-Anne Foster'),\n",
    "(332569843,'George ODonnell'),\n",
    "(546523478,'John Doe'),\n",
    "(631231482,'David Smith'),\n",
    "(654873219,'Zacary Efron'),\n",
    "(745685214,'Eric Goldsmith'),\n",
    "(845657245,'Elizabeth Doe'),\n",
    "(845657246,'Kumar Swamy');\n",
    "\n",
    "INSERT INTO Projects ( Code,Name,Hours)\n",
    "VALUES ('AeH1','Winds: Studying Bernoullis Principle', 156),\n",
    "('AeH2','Aerodynamics and Bridge Design',189),\n",
    "('AeH3','Aerodynamics and Gas Mileage', 256),\n",
    "('AeH4','Aerodynamics and Ice Hockey', 789),\n",
    "('AeH5','Aerodynamics of a Football', 98),\n",
    "('AeH6','Aerodynamics of Air Hockey',89),\n",
    "('Ast1','A Matter of Time',112),\n",
    "('Ast2','A Puzzling Parallax', 299),\n",
    "('Ast3','Build Your Own Telescope', 6546),\n",
    "('Bte1','Juicy: Extracting Apple Juice with Pectinase', 321),\n",
    "('Bte2','A Magnetic Primer Designer', 9684),\n",
    "('Bte3','Bacterial Transformation Efficiency', 321),\n",
    "('Che1','A Silver-Cleaning Battery', 545),\n",
    "('Che2','A Soluble Separation Solution', 778);\n",
    "\n",
    "INSERT INTO AssignedTo ( Scientist, Project)\n",
    "VALUES (123234877,'AeH1'),\n",
    "(152934485,'AeH3'),\n",
    "(222364883,'Ast3'),\n",
    "(326587417,'Ast3'),\n",
    "(332154719,'Bte1'),\n",
    "(546523478,'Che1'),\n",
    "(631231482,'Ast3'),\n",
    "(654873219,'Che1'),\n",
    "(745685214,'AeH3'),\n",
    "(845657245,'Ast1'),\n",
    "(845657246,'Ast2'),\n",
    "(332569843,'AeH4');\n",
    "\n",
    "\"\"\")\n",
    "con.commit()"
   ]
  },
  {
   "cell_type": "code",
   "execution_count": 10,
   "outputs": [
    {
     "data": {
      "text/plain": "[('Michael Rogers', 'Winds: Studying Bernoullis Principle', 156),\n ('Anand Manikutty', 'Aerodynamics and Gas Mileage', 256),\n ('Carol Smith', 'Build Your Own Telescope', 6546),\n ('Joe Stevens', 'Build Your Own Telescope', 6546),\n ('Mary-Anne Foster', 'Juicy: Extracting Apple Juice with Pectinase', 321),\n ('John Doe', 'A Silver-Cleaning Battery', 545),\n ('David Smith', 'Build Your Own Telescope', 6546),\n ('Zacary Efron', 'A Silver-Cleaning Battery', 545),\n ('Eric Goldsmith', 'Aerodynamics and Gas Mileage', 256),\n ('Elizabeth Doe', 'A Matter of Time', 112),\n ('Kumar Swamy', 'A Puzzling Parallax', 299),\n ('George ODonnell', 'Aerodynamics and Ice Hockey', 789)]"
     },
     "metadata": {},
     "output_type": "display_data"
    }
   ],
   "source": [
    "# -- 6.1 List all the scientists' names, their projects' names, and the hours worked by that scientist on each project, in alphabetical order of project name, then scientist name.\n",
    "cur.execute(\"\"\"\n",
    "    SELECT s.name, p.name, p.hours\n",
    "    FROM Scientists AS s\n",
    "    JOIN AssignedTo AS a ON s.SSN = a.Scientist\n",
    "    JOIN Projects AS p ON p.Code = a.Project\n",
    "    ORDER BY p.name ASC, s.name ASC\n",
    "\"\"\")\n",
    "display(cur.fetchall())\n"
   ],
   "metadata": {
    "collapsed": false
   }
  },
  {
   "cell_type": "code",
   "execution_count": 12,
   "outputs": [
    {
     "data": {
      "text/plain": "[('Aerodynamics and Bridge Design',),\n ('Aerodynamics of a Football',),\n ('Aerodynamics of Air Hockey',),\n ('A Magnetic Primer Designer',),\n ('Bacterial Transformation Efficiency',),\n ('A Soluble Separation Solution',)]"
     },
     "metadata": {},
     "output_type": "display_data"
    }
   ],
   "source": [
    "# -- 6.2 Select the project names which are not assigned yet\n",
    "cur.execute(\"\"\"\n",
    "    SELECT p.name\n",
    "    FROM AssignedTo AS a\n",
    "    RIGHT JOIN Projects AS p ON p.Code = a.Project\n",
    "    WHERE a.Scientist IS NULL\n",
    "\"\"\")\n",
    "display(cur.fetchall())"
   ],
   "metadata": {
    "collapsed": false
   }
  },
  {
   "cell_type": "code",
   "execution_count": null,
   "outputs": [],
   "source": [],
   "metadata": {
    "collapsed": false
   }
  }
 ],
 "metadata": {
  "kernelspec": {
   "display_name": "Python 3",
   "language": "python",
   "name": "python3"
  },
  "language_info": {
   "codemirror_mode": {
    "name": "ipython",
    "version": 2
   },
   "file_extension": ".py",
   "mimetype": "text/x-python",
   "name": "python",
   "nbconvert_exporter": "python",
   "pygments_lexer": "ipython2",
   "version": "2.7.6"
  }
 },
 "nbformat": 4,
 "nbformat_minor": 0
}
